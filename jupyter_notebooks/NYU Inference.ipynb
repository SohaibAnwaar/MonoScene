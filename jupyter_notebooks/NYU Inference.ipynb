{
 "cells": [
  {
   "cell_type": "markdown",
   "id": "3a12f9fa",
   "metadata": {},
   "source": [
    "# Introduction\n",
    "\n",
    "This notebook is created to run this repo on a single gpu machine."
   ]
  },
  {
   "cell_type": "code",
   "execution_count": 10,
   "id": "ab949841",
   "metadata": {},
   "outputs": [
    {
     "name": "stdout",
     "output_type": "stream",
     "text": [
      "adding Base Dir Path /monoscene/MonoScene\n"
     ]
    }
   ],
   "source": [
    "import sys\n",
    "import os\n",
    "\n",
    "BASE_DIR = os.getcwd().rsplit(\"/\",1)[0]\n",
    "sys.path.append(BASE_DIR)\n",
    "print(\"adding Base Dir Path\", BASE_DIR)\n",
    "\n",
    "\n",
    "from torch.utils.data.dataloader import DataLoader\n",
    "from pytorch_lightning import Trainer\n",
    "from monoscene.models.monoscene import MonoScene\n",
    "from monoscene.data.NYU.nyu_dm import NYUDataModule, collate_fn, NYUDataset\n",
    "from monoscene.data.semantic_kitti.kitti_dm import KittiDataModule\n",
    "from monoscene.data.kitti_360.kitti_360_dm import Kitti360DataModule\n",
    "import hydra\n",
    "from omegaconf import DictConfig\n",
    "import torch\n",
    "import numpy as np\n",
    "import os\n",
    "from hydra.utils import get_original_cwd\n",
    "from tqdm import tqdm\n",
    "import pickle\n",
    "\n",
    "\n"
   ]
  },
  {
   "cell_type": "markdown",
   "id": "a7660713",
   "metadata": {},
   "source": [
    "# Config"
   ]
  },
  {
   "cell_type": "code",
   "execution_count": 11,
   "id": "58f44503",
   "metadata": {},
   "outputs": [],
   "source": [
    "import yaml\n",
    "from types import SimpleNamespace\n",
    "\n",
    "with open(\"../monoscene/config/monoscene.yaml\", \"r\") as stream:\n",
    "    try:\n",
    "        config = yaml.safe_load(stream)\n",
    "        config = SimpleNamespace(**config)\n",
    "    except yaml.YAMLError as exc:\n",
    "        print(exc)"
   ]
  },
  {
   "cell_type": "code",
   "execution_count": 12,
   "id": "efc836d3",
   "metadata": {},
   "outputs": [
    {
     "data": {
      "text/plain": [
       "namespace(dataset='kitti_360',\n",
       "          n_relations=4,\n",
       "          enable_log=False,\n",
       "          kitti_root='/path/to/semantic_kitti',\n",
       "          kitti_preprocess_root='/path/to/kitti/preprocess/folder',\n",
       "          kitti_logdir='/path/to/semantic_kitti/logdir',\n",
       "          NYU_root='/monoscene/MonoScene/nyu/NYU_dataset/depthbin/',\n",
       "          NYU_preprocess_root='/monoscene/MonoScene/nyu/NYU_dataset/depthbin/preprocess',\n",
       "          logdir='/monoscene/logdir',\n",
       "          output_path='/path/to/output',\n",
       "          fp_loss=True,\n",
       "          frustum_size=8,\n",
       "          batch_size=1,\n",
       "          n_gpus=0,\n",
       "          num_workers_per_gpu=0,\n",
       "          exp_prefix='exp',\n",
       "          run=1,\n",
       "          lr='1e-4',\n",
       "          weight_decay='1e-4',\n",
       "          context_prior=True,\n",
       "          relation_loss=True,\n",
       "          CE_ssc_loss=True,\n",
       "          sem_scal_loss=True,\n",
       "          geo_scal_loss=True,\n",
       "          project_1_2=True,\n",
       "          project_1_4=True,\n",
       "          project_1_8=True)"
      ]
     },
     "execution_count": 12,
     "metadata": {},
     "output_type": "execute_result"
    }
   ],
   "source": [
    "config"
   ]
  },
  {
   "cell_type": "markdown",
   "id": "caca4b5c",
   "metadata": {},
   "source": [
    "# Data Loader"
   ]
  },
  {
   "cell_type": "code",
   "execution_count": 13,
   "id": "60cc708c",
   "metadata": {},
   "outputs": [],
   "source": [
    "\n",
    "\n",
    "project_scale = 1\n",
    "feature = 200\n",
    "full_scene_size = (60, 36, 60)\n",
    "\n",
    "test_ds = NYUDataset(\n",
    "            split=\"test\",\n",
    "            preprocess_root=config.NYU_preprocess_root,\n",
    "            n_relations=4,\n",
    "            root=config.NYU_root,\n",
    "            frustum_size=4,\n",
    "            fliplr=0.0,\n",
    "            color_jitter=None,\n",
    "        )\n",
    "\n",
    "data_loader = DataLoader(\n",
    "            test_ds,\n",
    "            batch_size=3,\n",
    "            drop_last=False,\n",
    "            shuffle=False,\n",
    "            pin_memory=True,\n",
    "            collate_fn=collate_fn,\n",
    "        )\n",
    "\n",
    "\n"
   ]
  },
  {
   "cell_type": "markdown",
   "id": "5c60523f",
   "metadata": {},
   "source": [
    "# Loading Model"
   ]
  },
  {
   "cell_type": "code",
   "execution_count": 14,
   "id": "8f23fde9",
   "metadata": {},
   "outputs": [
    {
     "name": "stdout",
     "output_type": "stream",
     "text": [
      "n_relations 4\n",
      "Loading base model ()..."
     ]
    },
    {
     "name": "stderr",
     "output_type": "stream",
     "text": [
      "Using cache found in /root/.cache/torch/hub/rwightman_gen-efficientnet-pytorch_master\n"
     ]
    },
    {
     "name": "stdout",
     "output_type": "stream",
     "text": [
      "Done.\n",
      "Removing last two layers (global_pool & classifier).\n",
      "Building Encoder-Decoder model..Done.\n"
     ]
    },
    {
     "data": {
      "text/plain": [
       "MonoScene(\n",
       "  (projects): ModuleDict(\n",
       "    (1): FLoSP()\n",
       "    (2): FLoSP()\n",
       "    (4): FLoSP()\n",
       "    (8): FLoSP()\n",
       "  )\n",
       "  (net_3d_decoder): UNet3D(\n",
       "    (process_1_4): Sequential(\n",
       "      (0): Process(\n",
       "        (main): Sequential(\n",
       "          (0): Bottleneck3D(\n",
       "            (conv1): Conv3d(200, 50, kernel_size=(1, 1, 1), stride=(1, 1, 1), bias=False)\n",
       "            (bn1): BatchNorm3d(50, eps=1e-05, momentum=0.1, affine=True, track_running_stats=True)\n",
       "            (conv2): Conv3d(50, 50, kernel_size=(1, 1, 3), stride=(1, 1, 1), padding=(0, 0, 1), bias=False)\n",
       "            (bn2): BatchNorm3d(50, eps=1e-05, momentum=0.1, affine=True, track_running_stats=True)\n",
       "            (conv3): Conv3d(50, 50, kernel_size=(1, 3, 1), stride=(1, 1, 1), padding=(0, 1, 0), bias=False)\n",
       "            (bn3): BatchNorm3d(50, eps=1e-05, momentum=0.1, affine=True, track_running_stats=True)\n",
       "            (conv4): Conv3d(50, 50, kernel_size=(3, 1, 1), stride=(1, 1, 1), padding=(1, 0, 0), bias=False)\n",
       "            (bn4): BatchNorm3d(50, eps=1e-05, momentum=0.1, affine=True, track_running_stats=True)\n",
       "            (conv5): Conv3d(50, 200, kernel_size=(1, 1, 1), stride=(1, 1, 1), bias=False)\n",
       "            (bn5): BatchNorm3d(200, eps=1e-05, momentum=0.1, affine=True, track_running_stats=True)\n",
       "            (relu): ReLU()\n",
       "            (relu_inplace): ReLU(inplace=True)\n",
       "            (downsample2): Sequential(\n",
       "              (0): AvgPool3d(kernel_size=(1, 1, 1), stride=(1, 1, 1), padding=0)\n",
       "              (1): Conv3d(50, 50, kernel_size=(1, 1, 1), stride=(1, 1, 1), bias=False)\n",
       "              (2): BatchNorm3d(50, eps=1e-05, momentum=0.1, affine=True, track_running_stats=True)\n",
       "            )\n",
       "            (downsample3): Sequential(\n",
       "              (0): AvgPool3d(kernel_size=(1, 1, 1), stride=(1, 1, 1), padding=0)\n",
       "              (1): Conv3d(50, 50, kernel_size=(1, 1, 1), stride=(1, 1, 1), bias=False)\n",
       "              (2): BatchNorm3d(50, eps=1e-05, momentum=0.1, affine=True, track_running_stats=True)\n",
       "            )\n",
       "            (downsample4): Sequential(\n",
       "              (0): AvgPool3d(kernel_size=(1, 1, 1), stride=(1, 1, 1), padding=0)\n",
       "              (1): Conv3d(50, 50, kernel_size=(1, 1, 1), stride=(1, 1, 1), bias=False)\n",
       "              (2): BatchNorm3d(50, eps=1e-05, momentum=0.1, affine=True, track_running_stats=True)\n",
       "            )\n",
       "          )\n",
       "          (1): Bottleneck3D(\n",
       "            (conv1): Conv3d(200, 50, kernel_size=(1, 1, 1), stride=(1, 1, 1), bias=False)\n",
       "            (bn1): BatchNorm3d(50, eps=1e-05, momentum=0.1, affine=True, track_running_stats=True)\n",
       "            (conv2): Conv3d(50, 50, kernel_size=(1, 1, 3), stride=(1, 1, 1), padding=(0, 0, 2), dilation=(1, 1, 2), bias=False)\n",
       "            (bn2): BatchNorm3d(50, eps=1e-05, momentum=0.1, affine=True, track_running_stats=True)\n",
       "            (conv3): Conv3d(50, 50, kernel_size=(1, 3, 1), stride=(1, 1, 1), padding=(0, 2, 0), dilation=(1, 2, 1), bias=False)\n",
       "            (bn3): BatchNorm3d(50, eps=1e-05, momentum=0.1, affine=True, track_running_stats=True)\n",
       "            (conv4): Conv3d(50, 50, kernel_size=(3, 1, 1), stride=(1, 1, 1), padding=(2, 0, 0), dilation=(2, 1, 1), bias=False)\n",
       "            (bn4): BatchNorm3d(50, eps=1e-05, momentum=0.1, affine=True, track_running_stats=True)\n",
       "            (conv5): Conv3d(50, 200, kernel_size=(1, 1, 1), stride=(1, 1, 1), bias=False)\n",
       "            (bn5): BatchNorm3d(200, eps=1e-05, momentum=0.1, affine=True, track_running_stats=True)\n",
       "            (relu): ReLU()\n",
       "            (relu_inplace): ReLU(inplace=True)\n",
       "            (downsample2): Sequential(\n",
       "              (0): AvgPool3d(kernel_size=(1, 1, 1), stride=(1, 1, 1), padding=0)\n",
       "              (1): Conv3d(50, 50, kernel_size=(1, 1, 1), stride=(1, 1, 1), bias=False)\n",
       "              (2): BatchNorm3d(50, eps=1e-05, momentum=0.1, affine=True, track_running_stats=True)\n",
       "            )\n",
       "            (downsample3): Sequential(\n",
       "              (0): AvgPool3d(kernel_size=(1, 1, 1), stride=(1, 1, 1), padding=0)\n",
       "              (1): Conv3d(50, 50, kernel_size=(1, 1, 1), stride=(1, 1, 1), bias=False)\n",
       "              (2): BatchNorm3d(50, eps=1e-05, momentum=0.1, affine=True, track_running_stats=True)\n",
       "            )\n",
       "            (downsample4): Sequential(\n",
       "              (0): AvgPool3d(kernel_size=(1, 1, 1), stride=(1, 1, 1), padding=0)\n",
       "              (1): Conv3d(50, 50, kernel_size=(1, 1, 1), stride=(1, 1, 1), bias=False)\n",
       "              (2): BatchNorm3d(50, eps=1e-05, momentum=0.1, affine=True, track_running_stats=True)\n",
       "            )\n",
       "          )\n",
       "          (2): Bottleneck3D(\n",
       "            (conv1): Conv3d(200, 50, kernel_size=(1, 1, 1), stride=(1, 1, 1), bias=False)\n",
       "            (bn1): BatchNorm3d(50, eps=1e-05, momentum=0.1, affine=True, track_running_stats=True)\n",
       "            (conv2): Conv3d(50, 50, kernel_size=(1, 1, 3), stride=(1, 1, 1), padding=(0, 0, 3), dilation=(1, 1, 3), bias=False)\n",
       "            (bn2): BatchNorm3d(50, eps=1e-05, momentum=0.1, affine=True, track_running_stats=True)\n",
       "            (conv3): Conv3d(50, 50, kernel_size=(1, 3, 1), stride=(1, 1, 1), padding=(0, 3, 0), dilation=(1, 3, 1), bias=False)\n",
       "            (bn3): BatchNorm3d(50, eps=1e-05, momentum=0.1, affine=True, track_running_stats=True)\n",
       "            (conv4): Conv3d(50, 50, kernel_size=(3, 1, 1), stride=(1, 1, 1), padding=(3, 0, 0), dilation=(3, 1, 1), bias=False)\n",
       "            (bn4): BatchNorm3d(50, eps=1e-05, momentum=0.1, affine=True, track_running_stats=True)\n",
       "            (conv5): Conv3d(50, 200, kernel_size=(1, 1, 1), stride=(1, 1, 1), bias=False)\n",
       "            (bn5): BatchNorm3d(200, eps=1e-05, momentum=0.1, affine=True, track_running_stats=True)\n",
       "            (relu): ReLU()\n",
       "            (relu_inplace): ReLU(inplace=True)\n",
       "            (downsample2): Sequential(\n",
       "              (0): AvgPool3d(kernel_size=(1, 1, 1), stride=(1, 1, 1), padding=0)\n",
       "              (1): Conv3d(50, 50, kernel_size=(1, 1, 1), stride=(1, 1, 1), bias=False)\n",
       "              (2): BatchNorm3d(50, eps=1e-05, momentum=0.1, affine=True, track_running_stats=True)\n",
       "            )\n",
       "            (downsample3): Sequential(\n",
       "              (0): AvgPool3d(kernel_size=(1, 1, 1), stride=(1, 1, 1), padding=0)\n",
       "              (1): Conv3d(50, 50, kernel_size=(1, 1, 1), stride=(1, 1, 1), bias=False)\n",
       "              (2): BatchNorm3d(50, eps=1e-05, momentum=0.1, affine=True, track_running_stats=True)\n",
       "            )\n",
       "            (downsample4): Sequential(\n",
       "              (0): AvgPool3d(kernel_size=(1, 1, 1), stride=(1, 1, 1), padding=0)\n",
       "              (1): Conv3d(50, 50, kernel_size=(1, 1, 1), stride=(1, 1, 1), bias=False)\n",
       "              (2): BatchNorm3d(50, eps=1e-05, momentum=0.1, affine=True, track_running_stats=True)\n",
       "            )\n",
       "          )\n",
       "        )\n",
       "      )\n",
       "      (1): Downsample(\n",
       "        (main): Bottleneck3D(\n",
       "          (conv1): Conv3d(200, 50, kernel_size=(1, 1, 1), stride=(1, 1, 1), bias=False)\n",
       "          (bn1): BatchNorm3d(50, eps=1e-05, momentum=0.1, affine=True, track_running_stats=True)\n",
       "          (conv2): Conv3d(50, 50, kernel_size=(1, 1, 3), stride=(1, 1, 2), padding=(0, 0, 1), bias=False)\n",
       "          (bn2): BatchNorm3d(50, eps=1e-05, momentum=0.1, affine=True, track_running_stats=True)\n",
       "          (conv3): Conv3d(50, 50, kernel_size=(1, 3, 1), stride=(1, 2, 1), padding=(0, 1, 0), bias=False)\n",
       "          (bn3): BatchNorm3d(50, eps=1e-05, momentum=0.1, affine=True, track_running_stats=True)\n",
       "          (conv4): Conv3d(50, 50, kernel_size=(3, 1, 1), stride=(2, 1, 1), padding=(1, 0, 0), bias=False)\n",
       "          (bn4): BatchNorm3d(50, eps=1e-05, momentum=0.1, affine=True, track_running_stats=True)\n",
       "          (conv5): Conv3d(50, 400, kernel_size=(1, 1, 1), stride=(1, 1, 1), bias=False)\n",
       "          (bn5): BatchNorm3d(400, eps=1e-05, momentum=0.1, affine=True, track_running_stats=True)\n",
       "          (relu): ReLU()\n",
       "          (relu_inplace): ReLU(inplace=True)\n",
       "          (downsample): Sequential(\n",
       "            (0): AvgPool3d(kernel_size=2, stride=2, padding=0)\n",
       "            (1): Conv3d(200, 400, kernel_size=(1, 1, 1), stride=(1, 1, 1), bias=False)\n",
       "            (2): BatchNorm3d(400, eps=1e-05, momentum=0.1, affine=True, track_running_stats=True)\n",
       "          )\n",
       "          (downsample2): Sequential(\n",
       "            (0): AvgPool3d(kernel_size=(1, 2, 1), stride=(1, 2, 1), padding=0)\n",
       "            (1): Conv3d(50, 50, kernel_size=(1, 1, 1), stride=(1, 1, 1), bias=False)\n",
       "            (2): BatchNorm3d(50, eps=1e-05, momentum=0.1, affine=True, track_running_stats=True)\n",
       "          )\n",
       "          (downsample3): Sequential(\n",
       "            (0): AvgPool3d(kernel_size=(2, 1, 1), stride=(2, 1, 1), padding=0)\n",
       "            (1): Conv3d(50, 50, kernel_size=(1, 1, 1), stride=(1, 1, 1), bias=False)\n",
       "            (2): BatchNorm3d(50, eps=1e-05, momentum=0.1, affine=True, track_running_stats=True)\n",
       "          )\n",
       "          (downsample4): Sequential(\n",
       "            (0): AvgPool3d(kernel_size=(2, 1, 1), stride=(2, 1, 1), padding=0)\n",
       "            (1): Conv3d(50, 50, kernel_size=(1, 1, 1), stride=(1, 1, 1), bias=False)\n",
       "            (2): BatchNorm3d(50, eps=1e-05, momentum=0.1, affine=True, track_running_stats=True)\n",
       "          )\n",
       "        )\n",
       "      )\n",
       "    )\n",
       "    (process_1_8): Sequential(\n",
       "      (0): Process(\n",
       "        (main): Sequential(\n",
       "          (0): Bottleneck3D(\n",
       "            (conv1): Conv3d(400, 100, kernel_size=(1, 1, 1), stride=(1, 1, 1), bias=False)\n",
       "            (bn1): BatchNorm3d(100, eps=1e-05, momentum=0.1, affine=True, track_running_stats=True)\n",
       "            (conv2): Conv3d(100, 100, kernel_size=(1, 1, 3), stride=(1, 1, 1), padding=(0, 0, 1), bias=False)\n",
       "            (bn2): BatchNorm3d(100, eps=1e-05, momentum=0.1, affine=True, track_running_stats=True)\n",
       "            (conv3): Conv3d(100, 100, kernel_size=(1, 3, 1), stride=(1, 1, 1), padding=(0, 1, 0), bias=False)\n",
       "            (bn3): BatchNorm3d(100, eps=1e-05, momentum=0.1, affine=True, track_running_stats=True)\n",
       "            (conv4): Conv3d(100, 100, kernel_size=(3, 1, 1), stride=(1, 1, 1), padding=(1, 0, 0), bias=False)\n",
       "            (bn4): BatchNorm3d(100, eps=1e-05, momentum=0.1, affine=True, track_running_stats=True)\n",
       "            (conv5): Conv3d(100, 400, kernel_size=(1, 1, 1), stride=(1, 1, 1), bias=False)\n",
       "            (bn5): BatchNorm3d(400, eps=1e-05, momentum=0.1, affine=True, track_running_stats=True)\n",
       "            (relu): ReLU()\n",
       "            (relu_inplace): ReLU(inplace=True)\n",
       "            (downsample2): Sequential(\n",
       "              (0): AvgPool3d(kernel_size=(1, 1, 1), stride=(1, 1, 1), padding=0)\n",
       "              (1): Conv3d(100, 100, kernel_size=(1, 1, 1), stride=(1, 1, 1), bias=False)\n",
       "              (2): BatchNorm3d(100, eps=1e-05, momentum=0.1, affine=True, track_running_stats=True)\n",
       "            )\n",
       "            (downsample3): Sequential(\n",
       "              (0): AvgPool3d(kernel_size=(1, 1, 1), stride=(1, 1, 1), padding=0)\n",
       "              (1): Conv3d(100, 100, kernel_size=(1, 1, 1), stride=(1, 1, 1), bias=False)\n",
       "              (2): BatchNorm3d(100, eps=1e-05, momentum=0.1, affine=True, track_running_stats=True)\n",
       "            )\n",
       "            (downsample4): Sequential(\n",
       "              (0): AvgPool3d(kernel_size=(1, 1, 1), stride=(1, 1, 1), padding=0)\n",
       "              (1): Conv3d(100, 100, kernel_size=(1, 1, 1), stride=(1, 1, 1), bias=False)\n",
       "              (2): BatchNorm3d(100, eps=1e-05, momentum=0.1, affine=True, track_running_stats=True)\n",
       "            )\n",
       "          )\n",
       "          (1): Bottleneck3D(\n",
       "            (conv1): Conv3d(400, 100, kernel_size=(1, 1, 1), stride=(1, 1, 1), bias=False)\n",
       "            (bn1): BatchNorm3d(100, eps=1e-05, momentum=0.1, affine=True, track_running_stats=True)\n",
       "            (conv2): Conv3d(100, 100, kernel_size=(1, 1, 3), stride=(1, 1, 1), padding=(0, 0, 2), dilation=(1, 1, 2), bias=False)\n",
       "            (bn2): BatchNorm3d(100, eps=1e-05, momentum=0.1, affine=True, track_running_stats=True)\n",
       "            (conv3): Conv3d(100, 100, kernel_size=(1, 3, 1), stride=(1, 1, 1), padding=(0, 2, 0), dilation=(1, 2, 1), bias=False)\n",
       "            (bn3): BatchNorm3d(100, eps=1e-05, momentum=0.1, affine=True, track_running_stats=True)\n",
       "            (conv4): Conv3d(100, 100, kernel_size=(3, 1, 1), stride=(1, 1, 1), padding=(2, 0, 0), dilation=(2, 1, 1), bias=False)\n",
       "            (bn4): BatchNorm3d(100, eps=1e-05, momentum=0.1, affine=True, track_running_stats=True)\n",
       "            (conv5): Conv3d(100, 400, kernel_size=(1, 1, 1), stride=(1, 1, 1), bias=False)\n",
       "            (bn5): BatchNorm3d(400, eps=1e-05, momentum=0.1, affine=True, track_running_stats=True)\n",
       "            (relu): ReLU()\n",
       "            (relu_inplace): ReLU(inplace=True)\n",
       "            (downsample2): Sequential(\n",
       "              (0): AvgPool3d(kernel_size=(1, 1, 1), stride=(1, 1, 1), padding=0)\n",
       "              (1): Conv3d(100, 100, kernel_size=(1, 1, 1), stride=(1, 1, 1), bias=False)\n",
       "              (2): BatchNorm3d(100, eps=1e-05, momentum=0.1, affine=True, track_running_stats=True)\n",
       "            )\n",
       "            (downsample3): Sequential(\n",
       "              (0): AvgPool3d(kernel_size=(1, 1, 1), stride=(1, 1, 1), padding=0)\n",
       "              (1): Conv3d(100, 100, kernel_size=(1, 1, 1), stride=(1, 1, 1), bias=False)\n",
       "              (2): BatchNorm3d(100, eps=1e-05, momentum=0.1, affine=True, track_running_stats=True)\n",
       "            )\n",
       "            (downsample4): Sequential(\n",
       "              (0): AvgPool3d(kernel_size=(1, 1, 1), stride=(1, 1, 1), padding=0)\n",
       "              (1): Conv3d(100, 100, kernel_size=(1, 1, 1), stride=(1, 1, 1), bias=False)\n",
       "              (2): BatchNorm3d(100, eps=1e-05, momentum=0.1, affine=True, track_running_stats=True)\n",
       "            )\n",
       "          )\n",
       "          (2): Bottleneck3D(\n",
       "            (conv1): Conv3d(400, 100, kernel_size=(1, 1, 1), stride=(1, 1, 1), bias=False)\n",
       "            (bn1): BatchNorm3d(100, eps=1e-05, momentum=0.1, affine=True, track_running_stats=True)\n",
       "            (conv2): Conv3d(100, 100, kernel_size=(1, 1, 3), stride=(1, 1, 1), padding=(0, 0, 3), dilation=(1, 1, 3), bias=False)\n",
       "            (bn2): BatchNorm3d(100, eps=1e-05, momentum=0.1, affine=True, track_running_stats=True)\n",
       "            (conv3): Conv3d(100, 100, kernel_size=(1, 3, 1), stride=(1, 1, 1), padding=(0, 3, 0), dilation=(1, 3, 1), bias=False)\n",
       "            (bn3): BatchNorm3d(100, eps=1e-05, momentum=0.1, affine=True, track_running_stats=True)\n",
       "            (conv4): Conv3d(100, 100, kernel_size=(3, 1, 1), stride=(1, 1, 1), padding=(3, 0, 0), dilation=(3, 1, 1), bias=False)\n",
       "            (bn4): BatchNorm3d(100, eps=1e-05, momentum=0.1, affine=True, track_running_stats=True)\n",
       "            (conv5): Conv3d(100, 400, kernel_size=(1, 1, 1), stride=(1, 1, 1), bias=False)\n",
       "            (bn5): BatchNorm3d(400, eps=1e-05, momentum=0.1, affine=True, track_running_stats=True)\n",
       "            (relu): ReLU()\n",
       "            (relu_inplace): ReLU(inplace=True)\n",
       "            (downsample2): Sequential(\n",
       "              (0): AvgPool3d(kernel_size=(1, 1, 1), stride=(1, 1, 1), padding=0)\n",
       "              (1): Conv3d(100, 100, kernel_size=(1, 1, 1), stride=(1, 1, 1), bias=False)\n",
       "              (2): BatchNorm3d(100, eps=1e-05, momentum=0.1, affine=True, track_running_stats=True)\n",
       "            )\n",
       "            (downsample3): Sequential(\n",
       "              (0): AvgPool3d(kernel_size=(1, 1, 1), stride=(1, 1, 1), padding=0)\n",
       "              (1): Conv3d(100, 100, kernel_size=(1, 1, 1), stride=(1, 1, 1), bias=False)\n",
       "              (2): BatchNorm3d(100, eps=1e-05, momentum=0.1, affine=True, track_running_stats=True)\n",
       "            )\n",
       "            (downsample4): Sequential(\n",
       "              (0): AvgPool3d(kernel_size=(1, 1, 1), stride=(1, 1, 1), padding=0)\n",
       "              (1): Conv3d(100, 100, kernel_size=(1, 1, 1), stride=(1, 1, 1), bias=False)\n",
       "              (2): BatchNorm3d(100, eps=1e-05, momentum=0.1, affine=True, track_running_stats=True)\n",
       "            )\n",
       "          )\n",
       "        )\n",
       "      )\n",
       "      (1): Downsample(\n",
       "        (main): Bottleneck3D(\n",
       "          (conv1): Conv3d(400, 100, kernel_size=(1, 1, 1), stride=(1, 1, 1), bias=False)\n",
       "          (bn1): BatchNorm3d(100, eps=1e-05, momentum=0.1, affine=True, track_running_stats=True)\n",
       "          (conv2): Conv3d(100, 100, kernel_size=(1, 1, 3), stride=(1, 1, 2), padding=(0, 0, 1), bias=False)\n",
       "          (bn2): BatchNorm3d(100, eps=1e-05, momentum=0.1, affine=True, track_running_stats=True)\n",
       "          (conv3): Conv3d(100, 100, kernel_size=(1, 3, 1), stride=(1, 2, 1), padding=(0, 1, 0), bias=False)\n",
       "          (bn3): BatchNorm3d(100, eps=1e-05, momentum=0.1, affine=True, track_running_stats=True)\n",
       "          (conv4): Conv3d(100, 100, kernel_size=(3, 1, 1), stride=(2, 1, 1), padding=(1, 0, 0), bias=False)\n",
       "          (bn4): BatchNorm3d(100, eps=1e-05, momentum=0.1, affine=True, track_running_stats=True)\n",
       "          (conv5): Conv3d(100, 800, kernel_size=(1, 1, 1), stride=(1, 1, 1), bias=False)\n",
       "          (bn5): BatchNorm3d(800, eps=1e-05, momentum=0.1, affine=True, track_running_stats=True)\n",
       "          (relu): ReLU()\n",
       "          (relu_inplace): ReLU(inplace=True)\n",
       "          (downsample): Sequential(\n",
       "            (0): AvgPool3d(kernel_size=2, stride=2, padding=0)\n",
       "            (1): Conv3d(400, 800, kernel_size=(1, 1, 1), stride=(1, 1, 1), bias=False)\n",
       "            (2): BatchNorm3d(800, eps=1e-05, momentum=0.1, affine=True, track_running_stats=True)\n",
       "          )\n",
       "          (downsample2): Sequential(\n",
       "            (0): AvgPool3d(kernel_size=(1, 2, 1), stride=(1, 2, 1), padding=0)\n",
       "            (1): Conv3d(100, 100, kernel_size=(1, 1, 1), stride=(1, 1, 1), bias=False)\n",
       "            (2): BatchNorm3d(100, eps=1e-05, momentum=0.1, affine=True, track_running_stats=True)\n",
       "          )\n",
       "          (downsample3): Sequential(\n",
       "            (0): AvgPool3d(kernel_size=(2, 1, 1), stride=(2, 1, 1), padding=0)\n",
       "            (1): Conv3d(100, 100, kernel_size=(1, 1, 1), stride=(1, 1, 1), bias=False)\n",
       "            (2): BatchNorm3d(100, eps=1e-05, momentum=0.1, affine=True, track_running_stats=True)\n",
       "          )\n",
       "          (downsample4): Sequential(\n",
       "            (0): AvgPool3d(kernel_size=(2, 1, 1), stride=(2, 1, 1), padding=0)\n",
       "            (1): Conv3d(100, 100, kernel_size=(1, 1, 1), stride=(1, 1, 1), bias=False)\n",
       "            (2): BatchNorm3d(100, eps=1e-05, momentum=0.1, affine=True, track_running_stats=True)\n",
       "          )\n",
       "        )\n",
       "      )\n",
       "    )\n",
       "    (up_1_16_1_8): Upsample(\n",
       "      (main): Sequential(\n",
       "        (0): ConvTranspose3d(800, 400, kernel_size=(3, 3, 3), stride=(2, 2, 2), padding=(1, 1, 1), output_padding=(1, 1, 1))\n",
       "        (1): BatchNorm3d(400, eps=1e-05, momentum=0.1, affine=True, track_running_stats=True)\n",
       "        (2): ReLU()\n",
       "      )\n",
       "    )\n",
       "    (up_1_8_1_4): Upsample(\n",
       "      (main): Sequential(\n",
       "        (0): ConvTranspose3d(400, 200, kernel_size=(3, 3, 3), stride=(2, 2, 2), padding=(1, 1, 1), output_padding=(1, 1, 1))\n",
       "        (1): BatchNorm3d(200, eps=1e-05, momentum=0.1, affine=True, track_running_stats=True)\n",
       "        (2): ReLU()\n",
       "      )\n",
       "    )\n",
       "    (ssc_head_1_4): SegmentationHead(\n",
       "      (conv0): Conv3d(200, 200, kernel_size=(3, 3, 3), stride=(1, 1, 1), padding=(1, 1, 1))\n",
       "      (conv1): ModuleList(\n",
       "        (0): Conv3d(200, 200, kernel_size=(3, 3, 3), stride=(1, 1, 1), padding=(1, 1, 1), bias=False)\n",
       "        (1): Conv3d(200, 200, kernel_size=(3, 3, 3), stride=(1, 1, 1), padding=(2, 2, 2), dilation=(2, 2, 2), bias=False)\n",
       "        (2): Conv3d(200, 200, kernel_size=(3, 3, 3), stride=(1, 1, 1), padding=(3, 3, 3), dilation=(3, 3, 3), bias=False)\n",
       "      )\n",
       "      (bn1): ModuleList(\n",
       "        (0): BatchNorm3d(200, eps=1e-05, momentum=0.1, affine=True, track_running_stats=True)\n",
       "        (1): BatchNorm3d(200, eps=1e-05, momentum=0.1, affine=True, track_running_stats=True)\n",
       "        (2): BatchNorm3d(200, eps=1e-05, momentum=0.1, affine=True, track_running_stats=True)\n",
       "      )\n",
       "      (conv2): ModuleList(\n",
       "        (0): Conv3d(200, 200, kernel_size=(3, 3, 3), stride=(1, 1, 1), padding=(1, 1, 1), bias=False)\n",
       "        (1): Conv3d(200, 200, kernel_size=(3, 3, 3), stride=(1, 1, 1), padding=(2, 2, 2), dilation=(2, 2, 2), bias=False)\n",
       "        (2): Conv3d(200, 200, kernel_size=(3, 3, 3), stride=(1, 1, 1), padding=(3, 3, 3), dilation=(3, 3, 3), bias=False)\n",
       "      )\n",
       "      (bn2): ModuleList(\n",
       "        (0): BatchNorm3d(200, eps=1e-05, momentum=0.1, affine=True, track_running_stats=True)\n",
       "        (1): BatchNorm3d(200, eps=1e-05, momentum=0.1, affine=True, track_running_stats=True)\n",
       "        (2): BatchNorm3d(200, eps=1e-05, momentum=0.1, affine=True, track_running_stats=True)\n",
       "      )\n",
       "      (relu): ReLU()\n",
       "      (conv_classes): Conv3d(200, 12, kernel_size=(3, 3, 3), stride=(1, 1, 1), padding=(1, 1, 1))\n",
       "    )\n",
       "    (CP_mega_voxels): CPMegaVoxels(\n",
       "      (mega_context): Sequential(\n",
       "        (0): Conv3d(800, 1600, kernel_size=(3, 3, 3), stride=(2, 2, 2))\n",
       "      )\n",
       "      (context_prior_logits): ModuleList(\n",
       "        (0): Sequential(\n",
       "          (0): Conv3d(800, 196, kernel_size=(1, 1, 1), stride=(1, 1, 1))\n",
       "        )\n",
       "        (1): Sequential(\n",
       "          (0): Conv3d(800, 196, kernel_size=(1, 1, 1), stride=(1, 1, 1))\n",
       "        )\n",
       "        (2): Sequential(\n",
       "          (0): Conv3d(800, 196, kernel_size=(1, 1, 1), stride=(1, 1, 1))\n",
       "        )\n",
       "        (3): Sequential(\n",
       "          (0): Conv3d(800, 196, kernel_size=(1, 1, 1), stride=(1, 1, 1))\n",
       "        )\n",
       "      )\n",
       "      (aspp): ASPP(\n",
       "        (conv1): ModuleList(\n",
       "          (0): Conv3d(800, 800, kernel_size=(3, 3, 3), stride=(1, 1, 1), padding=(1, 1, 1), bias=False)\n",
       "          (1): Conv3d(800, 800, kernel_size=(3, 3, 3), stride=(1, 1, 1), padding=(2, 2, 2), dilation=(2, 2, 2), bias=False)\n",
       "          (2): Conv3d(800, 800, kernel_size=(3, 3, 3), stride=(1, 1, 1), padding=(3, 3, 3), dilation=(3, 3, 3), bias=False)\n",
       "        )\n",
       "        (bn1): ModuleList(\n",
       "          (0): BatchNorm3d(800, eps=1e-05, momentum=0.1, affine=True, track_running_stats=True)\n",
       "          (1): BatchNorm3d(800, eps=1e-05, momentum=0.1, affine=True, track_running_stats=True)\n",
       "          (2): BatchNorm3d(800, eps=1e-05, momentum=0.1, affine=True, track_running_stats=True)\n",
       "        )\n",
       "        (conv2): ModuleList(\n",
       "          (0): Conv3d(800, 800, kernel_size=(3, 3, 3), stride=(1, 1, 1), padding=(1, 1, 1), bias=False)\n",
       "          (1): Conv3d(800, 800, kernel_size=(3, 3, 3), stride=(1, 1, 1), padding=(2, 2, 2), dilation=(2, 2, 2), bias=False)\n",
       "          (2): Conv3d(800, 800, kernel_size=(3, 3, 3), stride=(1, 1, 1), padding=(3, 3, 3), dilation=(3, 3, 3), bias=False)\n",
       "        )\n",
       "        (bn2): ModuleList(\n",
       "          (0): BatchNorm3d(800, eps=1e-05, momentum=0.1, affine=True, track_running_stats=True)\n",
       "          (1): BatchNorm3d(800, eps=1e-05, momentum=0.1, affine=True, track_running_stats=True)\n",
       "          (2): BatchNorm3d(800, eps=1e-05, momentum=0.1, affine=True, track_running_stats=True)\n",
       "        )\n",
       "        (relu): ReLU()\n",
       "      )\n",
       "      (resize): Sequential(\n",
       "        (0): Conv3d(7200, 800, kernel_size=(1, 1, 1), stride=(1, 1, 1), bias=False)\n",
       "        (1): Process(\n",
       "          (main): Sequential(\n",
       "            (0): Bottleneck3D(\n",
       "              (conv1): Conv3d(800, 200, kernel_size=(1, 1, 1), stride=(1, 1, 1), bias=False)\n",
       "              (bn1): BatchNorm3d(200, eps=1e-05, momentum=0.1, affine=True, track_running_stats=True)\n",
       "              (conv2): Conv3d(200, 200, kernel_size=(1, 1, 3), stride=(1, 1, 1), padding=(0, 0, 1), bias=False)\n",
       "              (bn2): BatchNorm3d(200, eps=1e-05, momentum=0.1, affine=True, track_running_stats=True)\n",
       "              (conv3): Conv3d(200, 200, kernel_size=(1, 3, 1), stride=(1, 1, 1), padding=(0, 1, 0), bias=False)\n",
       "              (bn3): BatchNorm3d(200, eps=1e-05, momentum=0.1, affine=True, track_running_stats=True)\n",
       "              (conv4): Conv3d(200, 200, kernel_size=(3, 1, 1), stride=(1, 1, 1), padding=(1, 0, 0), bias=False)\n",
       "              (bn4): BatchNorm3d(200, eps=1e-05, momentum=0.1, affine=True, track_running_stats=True)\n",
       "              (conv5): Conv3d(200, 800, kernel_size=(1, 1, 1), stride=(1, 1, 1), bias=False)\n",
       "              (bn5): BatchNorm3d(800, eps=1e-05, momentum=0.1, affine=True, track_running_stats=True)\n",
       "              (relu): ReLU()\n",
       "              (relu_inplace): ReLU(inplace=True)\n",
       "              (downsample2): Sequential(\n",
       "                (0): AvgPool3d(kernel_size=(1, 1, 1), stride=(1, 1, 1), padding=0)\n",
       "                (1): Conv3d(200, 200, kernel_size=(1, 1, 1), stride=(1, 1, 1), bias=False)\n",
       "                (2): BatchNorm3d(200, eps=1e-05, momentum=0.1, affine=True, track_running_stats=True)\n",
       "              )\n",
       "              (downsample3): Sequential(\n",
       "                (0): AvgPool3d(kernel_size=(1, 1, 1), stride=(1, 1, 1), padding=0)\n",
       "                (1): Conv3d(200, 200, kernel_size=(1, 1, 1), stride=(1, 1, 1), bias=False)\n",
       "                (2): BatchNorm3d(200, eps=1e-05, momentum=0.1, affine=True, track_running_stats=True)\n",
       "              )\n",
       "              (downsample4): Sequential(\n",
       "                (0): AvgPool3d(kernel_size=(1, 1, 1), stride=(1, 1, 1), padding=0)\n",
       "                (1): Conv3d(200, 200, kernel_size=(1, 1, 1), stride=(1, 1, 1), bias=False)\n",
       "                (2): BatchNorm3d(200, eps=1e-05, momentum=0.1, affine=True, track_running_stats=True)\n",
       "              )\n",
       "            )\n",
       "          )\n",
       "        )\n",
       "      )\n",
       "    )\n",
       "  )\n",
       "  (net_rgb): UNet2D(\n",
       "    (encoder): Encoder(\n",
       "      (original_model): GenEfficientNet(\n",
       "        (conv_stem): Conv2dSame(3, 64, kernel_size=(3, 3), stride=(2, 2), bias=False)\n",
       "        (bn1): BatchNorm2d(64, eps=0.001, momentum=0.1, affine=True, track_running_stats=True)\n",
       "        (act1): SiLU(inplace=True)\n",
       "        (blocks): Sequential(\n",
       "          (0): Sequential(\n",
       "            (0): DepthwiseSeparableConv(\n",
       "              (conv_dw): Conv2d(64, 64, kernel_size=(3, 3), stride=(1, 1), padding=(1, 1), groups=64, bias=False)\n",
       "              (bn1): BatchNorm2d(64, eps=0.001, momentum=0.1, affine=True, track_running_stats=True)\n",
       "              (act1): SiLU(inplace=True)\n",
       "              (se): SqueezeExcite(\n",
       "                (conv_reduce): Conv2d(64, 16, kernel_size=(1, 1), stride=(1, 1))\n",
       "                (act1): SiLU(inplace=True)\n",
       "                (conv_expand): Conv2d(16, 64, kernel_size=(1, 1), stride=(1, 1))\n",
       "              )\n",
       "              (conv_pw): Conv2d(64, 32, kernel_size=(1, 1), stride=(1, 1), bias=False)\n",
       "              (bn2): BatchNorm2d(32, eps=0.001, momentum=0.1, affine=True, track_running_stats=True)\n",
       "              (act2): Identity()\n",
       "            )\n",
       "            (1): DepthwiseSeparableConv(\n",
       "              (conv_dw): Conv2d(32, 32, kernel_size=(3, 3), stride=(1, 1), padding=(1, 1), groups=32, bias=False)\n",
       "              (bn1): BatchNorm2d(32, eps=0.001, momentum=0.1, affine=True, track_running_stats=True)\n",
       "              (act1): SiLU(inplace=True)\n",
       "              (se): SqueezeExcite(\n",
       "                (conv_reduce): Conv2d(32, 8, kernel_size=(1, 1), stride=(1, 1))\n",
       "                (act1): SiLU(inplace=True)\n",
       "                (conv_expand): Conv2d(8, 32, kernel_size=(1, 1), stride=(1, 1))\n",
       "              )\n",
       "              (conv_pw): Conv2d(32, 32, kernel_size=(1, 1), stride=(1, 1), bias=False)\n",
       "              (bn2): BatchNorm2d(32, eps=0.001, momentum=0.1, affine=True, track_running_stats=True)\n",
       "              (act2): Identity()\n",
       "            )\n",
       "            (2): DepthwiseSeparableConv(\n",
       "              (conv_dw): Conv2d(32, 32, kernel_size=(3, 3), stride=(1, 1), padding=(1, 1), groups=32, bias=False)\n",
       "              (bn1): BatchNorm2d(32, eps=0.001, momentum=0.1, affine=True, track_running_stats=True)\n",
       "              (act1): SiLU(inplace=True)\n",
       "              (se): SqueezeExcite(\n",
       "                (conv_reduce): Conv2d(32, 8, kernel_size=(1, 1), stride=(1, 1))\n",
       "                (act1): SiLU(inplace=True)\n",
       "                (conv_expand): Conv2d(8, 32, kernel_size=(1, 1), stride=(1, 1))\n",
       "              )\n",
       "              (conv_pw): Conv2d(32, 32, kernel_size=(1, 1), stride=(1, 1), bias=False)\n",
       "              (bn2): BatchNorm2d(32, eps=0.001, momentum=0.1, affine=True, track_running_stats=True)\n",
       "              (act2): Identity()\n",
       "            )\n",
       "            (3): DepthwiseSeparableConv(\n",
       "              (conv_dw): Conv2d(32, 32, kernel_size=(3, 3), stride=(1, 1), padding=(1, 1), groups=32, bias=False)\n",
       "              (bn1): BatchNorm2d(32, eps=0.001, momentum=0.1, affine=True, track_running_stats=True)\n",
       "              (act1): SiLU(inplace=True)\n",
       "              (se): SqueezeExcite(\n",
       "                (conv_reduce): Conv2d(32, 8, kernel_size=(1, 1), stride=(1, 1))\n",
       "                (act1): SiLU(inplace=True)\n",
       "                (conv_expand): Conv2d(8, 32, kernel_size=(1, 1), stride=(1, 1))\n",
       "              )\n",
       "              (conv_pw): Conv2d(32, 32, kernel_size=(1, 1), stride=(1, 1), bias=False)\n",
       "              (bn2): BatchNorm2d(32, eps=0.001, momentum=0.1, affine=True, track_running_stats=True)\n",
       "              (act2): Identity()\n",
       "            )\n",
       "          )\n",
       "          (1): Sequential(\n",
       "            (0): InvertedResidual(\n",
       "              (conv_pw): Conv2d(32, 192, kernel_size=(1, 1), stride=(1, 1), bias=False)\n",
       "              (bn1): BatchNorm2d(192, eps=0.001, momentum=0.1, affine=True, track_running_stats=True)\n",
       "              (act1): SiLU(inplace=True)\n",
       "              (conv_dw): Conv2dSame(192, 192, kernel_size=(3, 3), stride=(2, 2), groups=192, bias=False)\n",
       "              (bn2): BatchNorm2d(192, eps=0.001, momentum=0.1, affine=True, track_running_stats=True)\n",
       "              (act2): SiLU(inplace=True)\n",
       "              (se): SqueezeExcite(\n",
       "                (conv_reduce): Conv2d(192, 8, kernel_size=(1, 1), stride=(1, 1))\n",
       "                (act1): SiLU(inplace=True)\n",
       "                (conv_expand): Conv2d(8, 192, kernel_size=(1, 1), stride=(1, 1))\n",
       "              )\n",
       "              (conv_pwl): Conv2d(192, 48, kernel_size=(1, 1), stride=(1, 1), bias=False)\n",
       "              (bn3): BatchNorm2d(48, eps=0.001, momentum=0.1, affine=True, track_running_stats=True)\n",
       "            )\n",
       "            (1): InvertedResidual(\n",
       "              (conv_pw): Conv2d(48, 288, kernel_size=(1, 1), stride=(1, 1), bias=False)\n",
       "              (bn1): BatchNorm2d(288, eps=0.001, momentum=0.1, affine=True, track_running_stats=True)\n",
       "              (act1): SiLU(inplace=True)\n",
       "              (conv_dw): Conv2d(288, 288, kernel_size=(3, 3), stride=(1, 1), padding=(1, 1), groups=288, bias=False)\n",
       "              (bn2): BatchNorm2d(288, eps=0.001, momentum=0.1, affine=True, track_running_stats=True)\n",
       "              (act2): SiLU(inplace=True)\n",
       "              (se): SqueezeExcite(\n",
       "                (conv_reduce): Conv2d(288, 12, kernel_size=(1, 1), stride=(1, 1))\n",
       "                (act1): SiLU(inplace=True)\n",
       "                (conv_expand): Conv2d(12, 288, kernel_size=(1, 1), stride=(1, 1))\n",
       "              )\n",
       "              (conv_pwl): Conv2d(288, 48, kernel_size=(1, 1), stride=(1, 1), bias=False)\n",
       "              (bn3): BatchNorm2d(48, eps=0.001, momentum=0.1, affine=True, track_running_stats=True)\n",
       "            )\n",
       "            (2): InvertedResidual(\n",
       "              (conv_pw): Conv2d(48, 288, kernel_size=(1, 1), stride=(1, 1), bias=False)\n",
       "              (bn1): BatchNorm2d(288, eps=0.001, momentum=0.1, affine=True, track_running_stats=True)\n",
       "              (act1): SiLU(inplace=True)\n",
       "              (conv_dw): Conv2d(288, 288, kernel_size=(3, 3), stride=(1, 1), padding=(1, 1), groups=288, bias=False)\n",
       "              (bn2): BatchNorm2d(288, eps=0.001, momentum=0.1, affine=True, track_running_stats=True)\n",
       "              (act2): SiLU(inplace=True)\n",
       "              (se): SqueezeExcite(\n",
       "                (conv_reduce): Conv2d(288, 12, kernel_size=(1, 1), stride=(1, 1))\n",
       "                (act1): SiLU(inplace=True)\n",
       "                (conv_expand): Conv2d(12, 288, kernel_size=(1, 1), stride=(1, 1))\n",
       "              )\n",
       "              (conv_pwl): Conv2d(288, 48, kernel_size=(1, 1), stride=(1, 1), bias=False)\n",
       "              (bn3): BatchNorm2d(48, eps=0.001, momentum=0.1, affine=True, track_running_stats=True)\n",
       "            )\n",
       "            (3): InvertedResidual(\n",
       "              (conv_pw): Conv2d(48, 288, kernel_size=(1, 1), stride=(1, 1), bias=False)\n",
       "              (bn1): BatchNorm2d(288, eps=0.001, momentum=0.1, affine=True, track_running_stats=True)\n",
       "              (act1): SiLU(inplace=True)\n",
       "              (conv_dw): Conv2d(288, 288, kernel_size=(3, 3), stride=(1, 1), padding=(1, 1), groups=288, bias=False)\n",
       "              (bn2): BatchNorm2d(288, eps=0.001, momentum=0.1, affine=True, track_running_stats=True)\n",
       "              (act2): SiLU(inplace=True)\n",
       "              (se): SqueezeExcite(\n",
       "                (conv_reduce): Conv2d(288, 12, kernel_size=(1, 1), stride=(1, 1))\n",
       "                (act1): SiLU(inplace=True)\n",
       "                (conv_expand): Conv2d(12, 288, kernel_size=(1, 1), stride=(1, 1))\n",
       "              )\n",
       "              (conv_pwl): Conv2d(288, 48, kernel_size=(1, 1), stride=(1, 1), bias=False)\n",
       "              (bn3): BatchNorm2d(48, eps=0.001, momentum=0.1, affine=True, track_running_stats=True)\n",
       "            )\n",
       "            (4): InvertedResidual(\n",
       "              (conv_pw): Conv2d(48, 288, kernel_size=(1, 1), stride=(1, 1), bias=False)\n",
       "              (bn1): BatchNorm2d(288, eps=0.001, momentum=0.1, affine=True, track_running_stats=True)\n",
       "              (act1): SiLU(inplace=True)\n",
       "              (conv_dw): Conv2d(288, 288, kernel_size=(3, 3), stride=(1, 1), padding=(1, 1), groups=288, bias=False)\n",
       "              (bn2): BatchNorm2d(288, eps=0.001, momentum=0.1, affine=True, track_running_stats=True)\n",
       "              (act2): SiLU(inplace=True)\n",
       "              (se): SqueezeExcite(\n",
       "                (conv_reduce): Conv2d(288, 12, kernel_size=(1, 1), stride=(1, 1))\n",
       "                (act1): SiLU(inplace=True)\n",
       "                (conv_expand): Conv2d(12, 288, kernel_size=(1, 1), stride=(1, 1))\n",
       "              )\n",
       "              (conv_pwl): Conv2d(288, 48, kernel_size=(1, 1), stride=(1, 1), bias=False)\n",
       "              (bn3): BatchNorm2d(48, eps=0.001, momentum=0.1, affine=True, track_running_stats=True)\n",
       "            )\n",
       "            (5): InvertedResidual(\n",
       "              (conv_pw): Conv2d(48, 288, kernel_size=(1, 1), stride=(1, 1), bias=False)\n",
       "              (bn1): BatchNorm2d(288, eps=0.001, momentum=0.1, affine=True, track_running_stats=True)\n",
       "              (act1): SiLU(inplace=True)\n",
       "              (conv_dw): Conv2d(288, 288, kernel_size=(3, 3), stride=(1, 1), padding=(1, 1), groups=288, bias=False)\n",
       "              (bn2): BatchNorm2d(288, eps=0.001, momentum=0.1, affine=True, track_running_stats=True)\n",
       "              (act2): SiLU(inplace=True)\n",
       "              (se): SqueezeExcite(\n",
       "                (conv_reduce): Conv2d(288, 12, kernel_size=(1, 1), stride=(1, 1))\n",
       "                (act1): SiLU(inplace=True)\n",
       "                (conv_expand): Conv2d(12, 288, kernel_size=(1, 1), stride=(1, 1))\n",
       "              )\n",
       "              (conv_pwl): Conv2d(288, 48, kernel_size=(1, 1), stride=(1, 1), bias=False)\n",
       "              (bn3): BatchNorm2d(48, eps=0.001, momentum=0.1, affine=True, track_running_stats=True)\n",
       "            )\n",
       "            (6): InvertedResidual(\n",
       "              (conv_pw): Conv2d(48, 288, kernel_size=(1, 1), stride=(1, 1), bias=False)\n",
       "              (bn1): BatchNorm2d(288, eps=0.001, momentum=0.1, affine=True, track_running_stats=True)\n",
       "              (act1): SiLU(inplace=True)\n",
       "              (conv_dw): Conv2d(288, 288, kernel_size=(3, 3), stride=(1, 1), padding=(1, 1), groups=288, bias=False)\n",
       "              (bn2): BatchNorm2d(288, eps=0.001, momentum=0.1, affine=True, track_running_stats=True)\n",
       "              (act2): SiLU(inplace=True)\n",
       "              (se): SqueezeExcite(\n",
       "                (conv_reduce): Conv2d(288, 12, kernel_size=(1, 1), stride=(1, 1))\n",
       "                (act1): SiLU(inplace=True)\n",
       "                (conv_expand): Conv2d(12, 288, kernel_size=(1, 1), stride=(1, 1))\n",
       "              )\n",
       "              (conv_pwl): Conv2d(288, 48, kernel_size=(1, 1), stride=(1, 1), bias=False)\n",
       "              (bn3): BatchNorm2d(48, eps=0.001, momentum=0.1, affine=True, track_running_stats=True)\n",
       "            )\n",
       "          )\n",
       "          (2): Sequential(\n",
       "            (0): InvertedResidual(\n",
       "              (conv_pw): Conv2d(48, 288, kernel_size=(1, 1), stride=(1, 1), bias=False)\n",
       "              (bn1): BatchNorm2d(288, eps=0.001, momentum=0.1, affine=True, track_running_stats=True)\n",
       "              (act1): SiLU(inplace=True)\n",
       "              (conv_dw): Conv2dSame(288, 288, kernel_size=(5, 5), stride=(2, 2), groups=288, bias=False)\n",
       "              (bn2): BatchNorm2d(288, eps=0.001, momentum=0.1, affine=True, track_running_stats=True)\n",
       "              (act2): SiLU(inplace=True)\n",
       "              (se): SqueezeExcite(\n",
       "                (conv_reduce): Conv2d(288, 12, kernel_size=(1, 1), stride=(1, 1))\n",
       "                (act1): SiLU(inplace=True)\n",
       "                (conv_expand): Conv2d(12, 288, kernel_size=(1, 1), stride=(1, 1))\n",
       "              )\n",
       "              (conv_pwl): Conv2d(288, 80, kernel_size=(1, 1), stride=(1, 1), bias=False)\n",
       "              (bn3): BatchNorm2d(80, eps=0.001, momentum=0.1, affine=True, track_running_stats=True)\n",
       "            )\n",
       "            (1): InvertedResidual(\n",
       "              (conv_pw): Conv2d(80, 480, kernel_size=(1, 1), stride=(1, 1), bias=False)\n",
       "              (bn1): BatchNorm2d(480, eps=0.001, momentum=0.1, affine=True, track_running_stats=True)\n",
       "              (act1): SiLU(inplace=True)\n",
       "              (conv_dw): Conv2d(480, 480, kernel_size=(5, 5), stride=(1, 1), padding=(2, 2), groups=480, bias=False)\n",
       "              (bn2): BatchNorm2d(480, eps=0.001, momentum=0.1, affine=True, track_running_stats=True)\n",
       "              (act2): SiLU(inplace=True)\n",
       "              (se): SqueezeExcite(\n",
       "                (conv_reduce): Conv2d(480, 20, kernel_size=(1, 1), stride=(1, 1))\n",
       "                (act1): SiLU(inplace=True)\n",
       "                (conv_expand): Conv2d(20, 480, kernel_size=(1, 1), stride=(1, 1))\n",
       "              )\n",
       "              (conv_pwl): Conv2d(480, 80, kernel_size=(1, 1), stride=(1, 1), bias=False)\n",
       "              (bn3): BatchNorm2d(80, eps=0.001, momentum=0.1, affine=True, track_running_stats=True)\n",
       "            )\n",
       "            (2): InvertedResidual(\n",
       "              (conv_pw): Conv2d(80, 480, kernel_size=(1, 1), stride=(1, 1), bias=False)\n",
       "              (bn1): BatchNorm2d(480, eps=0.001, momentum=0.1, affine=True, track_running_stats=True)\n",
       "              (act1): SiLU(inplace=True)\n",
       "              (conv_dw): Conv2d(480, 480, kernel_size=(5, 5), stride=(1, 1), padding=(2, 2), groups=480, bias=False)\n",
       "              (bn2): BatchNorm2d(480, eps=0.001, momentum=0.1, affine=True, track_running_stats=True)\n",
       "              (act2): SiLU(inplace=True)\n",
       "              (se): SqueezeExcite(\n",
       "                (conv_reduce): Conv2d(480, 20, kernel_size=(1, 1), stride=(1, 1))\n",
       "                (act1): SiLU(inplace=True)\n",
       "                (conv_expand): Conv2d(20, 480, kernel_size=(1, 1), stride=(1, 1))\n",
       "              )\n",
       "              (conv_pwl): Conv2d(480, 80, kernel_size=(1, 1), stride=(1, 1), bias=False)\n",
       "              (bn3): BatchNorm2d(80, eps=0.001, momentum=0.1, affine=True, track_running_stats=True)\n",
       "            )\n",
       "            (3): InvertedResidual(\n",
       "              (conv_pw): Conv2d(80, 480, kernel_size=(1, 1), stride=(1, 1), bias=False)\n",
       "              (bn1): BatchNorm2d(480, eps=0.001, momentum=0.1, affine=True, track_running_stats=True)\n",
       "              (act1): SiLU(inplace=True)\n",
       "              (conv_dw): Conv2d(480, 480, kernel_size=(5, 5), stride=(1, 1), padding=(2, 2), groups=480, bias=False)\n",
       "              (bn2): BatchNorm2d(480, eps=0.001, momentum=0.1, affine=True, track_running_stats=True)\n",
       "              (act2): SiLU(inplace=True)\n",
       "              (se): SqueezeExcite(\n",
       "                (conv_reduce): Conv2d(480, 20, kernel_size=(1, 1), stride=(1, 1))\n",
       "                (act1): SiLU(inplace=True)\n",
       "                (conv_expand): Conv2d(20, 480, kernel_size=(1, 1), stride=(1, 1))\n",
       "              )\n",
       "              (conv_pwl): Conv2d(480, 80, kernel_size=(1, 1), stride=(1, 1), bias=False)\n",
       "              (bn3): BatchNorm2d(80, eps=0.001, momentum=0.1, affine=True, track_running_stats=True)\n",
       "            )\n",
       "            (4): InvertedResidual(\n",
       "              (conv_pw): Conv2d(80, 480, kernel_size=(1, 1), stride=(1, 1), bias=False)\n",
       "              (bn1): BatchNorm2d(480, eps=0.001, momentum=0.1, affine=True, track_running_stats=True)\n",
       "              (act1): SiLU(inplace=True)\n",
       "              (conv_dw): Conv2d(480, 480, kernel_size=(5, 5), stride=(1, 1), padding=(2, 2), groups=480, bias=False)\n",
       "              (bn2): BatchNorm2d(480, eps=0.001, momentum=0.1, affine=True, track_running_stats=True)\n",
       "              (act2): SiLU(inplace=True)\n",
       "              (se): SqueezeExcite(\n",
       "                (conv_reduce): Conv2d(480, 20, kernel_size=(1, 1), stride=(1, 1))\n",
       "                (act1): SiLU(inplace=True)\n",
       "                (conv_expand): Conv2d(20, 480, kernel_size=(1, 1), stride=(1, 1))\n",
       "              )\n",
       "              (conv_pwl): Conv2d(480, 80, kernel_size=(1, 1), stride=(1, 1), bias=False)\n",
       "              (bn3): BatchNorm2d(80, eps=0.001, momentum=0.1, affine=True, track_running_stats=True)\n",
       "            )\n",
       "            (5): InvertedResidual(\n",
       "              (conv_pw): Conv2d(80, 480, kernel_size=(1, 1), stride=(1, 1), bias=False)\n",
       "              (bn1): BatchNorm2d(480, eps=0.001, momentum=0.1, affine=True, track_running_stats=True)\n",
       "              (act1): SiLU(inplace=True)\n",
       "              (conv_dw): Conv2d(480, 480, kernel_size=(5, 5), stride=(1, 1), padding=(2, 2), groups=480, bias=False)\n",
       "              (bn2): BatchNorm2d(480, eps=0.001, momentum=0.1, affine=True, track_running_stats=True)\n",
       "              (act2): SiLU(inplace=True)\n",
       "              (se): SqueezeExcite(\n",
       "                (conv_reduce): Conv2d(480, 20, kernel_size=(1, 1), stride=(1, 1))\n",
       "                (act1): SiLU(inplace=True)\n",
       "                (conv_expand): Conv2d(20, 480, kernel_size=(1, 1), stride=(1, 1))\n",
       "              )\n",
       "              (conv_pwl): Conv2d(480, 80, kernel_size=(1, 1), stride=(1, 1), bias=False)\n",
       "              (bn3): BatchNorm2d(80, eps=0.001, momentum=0.1, affine=True, track_running_stats=True)\n",
       "            )\n",
       "            (6): InvertedResidual(\n",
       "              (conv_pw): Conv2d(80, 480, kernel_size=(1, 1), stride=(1, 1), bias=False)\n",
       "              (bn1): BatchNorm2d(480, eps=0.001, momentum=0.1, affine=True, track_running_stats=True)\n",
       "              (act1): SiLU(inplace=True)\n",
       "              (conv_dw): Conv2d(480, 480, kernel_size=(5, 5), stride=(1, 1), padding=(2, 2), groups=480, bias=False)\n",
       "              (bn2): BatchNorm2d(480, eps=0.001, momentum=0.1, affine=True, track_running_stats=True)\n",
       "              (act2): SiLU(inplace=True)\n",
       "              (se): SqueezeExcite(\n",
       "                (conv_reduce): Conv2d(480, 20, kernel_size=(1, 1), stride=(1, 1))\n",
       "                (act1): SiLU(inplace=True)\n",
       "                (conv_expand): Conv2d(20, 480, kernel_size=(1, 1), stride=(1, 1))\n",
       "              )\n",
       "              (conv_pwl): Conv2d(480, 80, kernel_size=(1, 1), stride=(1, 1), bias=False)\n",
       "              (bn3): BatchNorm2d(80, eps=0.001, momentum=0.1, affine=True, track_running_stats=True)\n",
       "            )\n",
       "          )\n",
       "          (3): Sequential(\n",
       "            (0): InvertedResidual(\n",
       "              (conv_pw): Conv2d(80, 480, kernel_size=(1, 1), stride=(1, 1), bias=False)\n",
       "              (bn1): BatchNorm2d(480, eps=0.001, momentum=0.1, affine=True, track_running_stats=True)\n",
       "              (act1): SiLU(inplace=True)\n",
       "              (conv_dw): Conv2dSame(480, 480, kernel_size=(3, 3), stride=(2, 2), groups=480, bias=False)\n",
       "              (bn2): BatchNorm2d(480, eps=0.001, momentum=0.1, affine=True, track_running_stats=True)\n",
       "              (act2): SiLU(inplace=True)\n",
       "              (se): SqueezeExcite(\n",
       "                (conv_reduce): Conv2d(480, 20, kernel_size=(1, 1), stride=(1, 1))\n",
       "                (act1): SiLU(inplace=True)\n",
       "                (conv_expand): Conv2d(20, 480, kernel_size=(1, 1), stride=(1, 1))\n",
       "              )\n",
       "              (conv_pwl): Conv2d(480, 160, kernel_size=(1, 1), stride=(1, 1), bias=False)\n",
       "              (bn3): BatchNorm2d(160, eps=0.001, momentum=0.1, affine=True, track_running_stats=True)\n",
       "            )\n",
       "            (1): InvertedResidual(\n",
       "              (conv_pw): Conv2d(160, 960, kernel_size=(1, 1), stride=(1, 1), bias=False)\n",
       "              (bn1): BatchNorm2d(960, eps=0.001, momentum=0.1, affine=True, track_running_stats=True)\n",
       "              (act1): SiLU(inplace=True)\n",
       "              (conv_dw): Conv2d(960, 960, kernel_size=(3, 3), stride=(1, 1), padding=(1, 1), groups=960, bias=False)\n",
       "              (bn2): BatchNorm2d(960, eps=0.001, momentum=0.1, affine=True, track_running_stats=True)\n",
       "              (act2): SiLU(inplace=True)\n",
       "              (se): SqueezeExcite(\n",
       "                (conv_reduce): Conv2d(960, 40, kernel_size=(1, 1), stride=(1, 1))\n",
       "                (act1): SiLU(inplace=True)\n",
       "                (conv_expand): Conv2d(40, 960, kernel_size=(1, 1), stride=(1, 1))\n",
       "              )\n",
       "              (conv_pwl): Conv2d(960, 160, kernel_size=(1, 1), stride=(1, 1), bias=False)\n",
       "              (bn3): BatchNorm2d(160, eps=0.001, momentum=0.1, affine=True, track_running_stats=True)\n",
       "            )\n",
       "            (2): InvertedResidual(\n",
       "              (conv_pw): Conv2d(160, 960, kernel_size=(1, 1), stride=(1, 1), bias=False)\n",
       "              (bn1): BatchNorm2d(960, eps=0.001, momentum=0.1, affine=True, track_running_stats=True)\n",
       "              (act1): SiLU(inplace=True)\n",
       "              (conv_dw): Conv2d(960, 960, kernel_size=(3, 3), stride=(1, 1), padding=(1, 1), groups=960, bias=False)\n",
       "              (bn2): BatchNorm2d(960, eps=0.001, momentum=0.1, affine=True, track_running_stats=True)\n",
       "              (act2): SiLU(inplace=True)\n",
       "              (se): SqueezeExcite(\n",
       "                (conv_reduce): Conv2d(960, 40, kernel_size=(1, 1), stride=(1, 1))\n",
       "                (act1): SiLU(inplace=True)\n",
       "                (conv_expand): Conv2d(40, 960, kernel_size=(1, 1), stride=(1, 1))\n",
       "              )\n",
       "              (conv_pwl): Conv2d(960, 160, kernel_size=(1, 1), stride=(1, 1), bias=False)\n",
       "              (bn3): BatchNorm2d(160, eps=0.001, momentum=0.1, affine=True, track_running_stats=True)\n",
       "            )\n",
       "            (3): InvertedResidual(\n",
       "              (conv_pw): Conv2d(160, 960, kernel_size=(1, 1), stride=(1, 1), bias=False)\n",
       "              (bn1): BatchNorm2d(960, eps=0.001, momentum=0.1, affine=True, track_running_stats=True)\n",
       "              (act1): SiLU(inplace=True)\n",
       "              (conv_dw): Conv2d(960, 960, kernel_size=(3, 3), stride=(1, 1), padding=(1, 1), groups=960, bias=False)\n",
       "              (bn2): BatchNorm2d(960, eps=0.001, momentum=0.1, affine=True, track_running_stats=True)\n",
       "              (act2): SiLU(inplace=True)\n",
       "              (se): SqueezeExcite(\n",
       "                (conv_reduce): Conv2d(960, 40, kernel_size=(1, 1), stride=(1, 1))\n",
       "                (act1): SiLU(inplace=True)\n",
       "                (conv_expand): Conv2d(40, 960, kernel_size=(1, 1), stride=(1, 1))\n",
       "              )\n",
       "              (conv_pwl): Conv2d(960, 160, kernel_size=(1, 1), stride=(1, 1), bias=False)\n",
       "              (bn3): BatchNorm2d(160, eps=0.001, momentum=0.1, affine=True, track_running_stats=True)\n",
       "            )\n",
       "            (4): InvertedResidual(\n",
       "              (conv_pw): Conv2d(160, 960, kernel_size=(1, 1), stride=(1, 1), bias=False)\n",
       "              (bn1): BatchNorm2d(960, eps=0.001, momentum=0.1, affine=True, track_running_stats=True)\n",
       "              (act1): SiLU(inplace=True)\n",
       "              (conv_dw): Conv2d(960, 960, kernel_size=(3, 3), stride=(1, 1), padding=(1, 1), groups=960, bias=False)\n",
       "              (bn2): BatchNorm2d(960, eps=0.001, momentum=0.1, affine=True, track_running_stats=True)\n",
       "              (act2): SiLU(inplace=True)\n",
       "              (se): SqueezeExcite(\n",
       "                (conv_reduce): Conv2d(960, 40, kernel_size=(1, 1), stride=(1, 1))\n",
       "                (act1): SiLU(inplace=True)\n",
       "                (conv_expand): Conv2d(40, 960, kernel_size=(1, 1), stride=(1, 1))\n",
       "              )\n",
       "              (conv_pwl): Conv2d(960, 160, kernel_size=(1, 1), stride=(1, 1), bias=False)\n",
       "              (bn3): BatchNorm2d(160, eps=0.001, momentum=0.1, affine=True, track_running_stats=True)\n",
       "            )\n",
       "            (5): InvertedResidual(\n",
       "              (conv_pw): Conv2d(160, 960, kernel_size=(1, 1), stride=(1, 1), bias=False)\n",
       "              (bn1): BatchNorm2d(960, eps=0.001, momentum=0.1, affine=True, track_running_stats=True)\n",
       "              (act1): SiLU(inplace=True)\n",
       "              (conv_dw): Conv2d(960, 960, kernel_size=(3, 3), stride=(1, 1), padding=(1, 1), groups=960, bias=False)\n",
       "              (bn2): BatchNorm2d(960, eps=0.001, momentum=0.1, affine=True, track_running_stats=True)\n",
       "              (act2): SiLU(inplace=True)\n",
       "              (se): SqueezeExcite(\n",
       "                (conv_reduce): Conv2d(960, 40, kernel_size=(1, 1), stride=(1, 1))\n",
       "                (act1): SiLU(inplace=True)\n",
       "                (conv_expand): Conv2d(40, 960, kernel_size=(1, 1), stride=(1, 1))\n",
       "              )\n",
       "              (conv_pwl): Conv2d(960, 160, kernel_size=(1, 1), stride=(1, 1), bias=False)\n",
       "              (bn3): BatchNorm2d(160, eps=0.001, momentum=0.1, affine=True, track_running_stats=True)\n",
       "            )\n",
       "            (6): InvertedResidual(\n",
       "              (conv_pw): Conv2d(160, 960, kernel_size=(1, 1), stride=(1, 1), bias=False)\n",
       "              (bn1): BatchNorm2d(960, eps=0.001, momentum=0.1, affine=True, track_running_stats=True)\n",
       "              (act1): SiLU(inplace=True)\n",
       "              (conv_dw): Conv2d(960, 960, kernel_size=(3, 3), stride=(1, 1), padding=(1, 1), groups=960, bias=False)\n",
       "              (bn2): BatchNorm2d(960, eps=0.001, momentum=0.1, affine=True, track_running_stats=True)\n",
       "              (act2): SiLU(inplace=True)\n",
       "              (se): SqueezeExcite(\n",
       "                (conv_reduce): Conv2d(960, 40, kernel_size=(1, 1), stride=(1, 1))\n",
       "                (act1): SiLU(inplace=True)\n",
       "                (conv_expand): Conv2d(40, 960, kernel_size=(1, 1), stride=(1, 1))\n",
       "              )\n",
       "              (conv_pwl): Conv2d(960, 160, kernel_size=(1, 1), stride=(1, 1), bias=False)\n",
       "              (bn3): BatchNorm2d(160, eps=0.001, momentum=0.1, affine=True, track_running_stats=True)\n",
       "            )\n",
       "            (7): InvertedResidual(\n",
       "              (conv_pw): Conv2d(160, 960, kernel_size=(1, 1), stride=(1, 1), bias=False)\n",
       "              (bn1): BatchNorm2d(960, eps=0.001, momentum=0.1, affine=True, track_running_stats=True)\n",
       "              (act1): SiLU(inplace=True)\n",
       "              (conv_dw): Conv2d(960, 960, kernel_size=(3, 3), stride=(1, 1), padding=(1, 1), groups=960, bias=False)\n",
       "              (bn2): BatchNorm2d(960, eps=0.001, momentum=0.1, affine=True, track_running_stats=True)\n",
       "              (act2): SiLU(inplace=True)\n",
       "              (se): SqueezeExcite(\n",
       "                (conv_reduce): Conv2d(960, 40, kernel_size=(1, 1), stride=(1, 1))\n",
       "                (act1): SiLU(inplace=True)\n",
       "                (conv_expand): Conv2d(40, 960, kernel_size=(1, 1), stride=(1, 1))\n",
       "              )\n",
       "              (conv_pwl): Conv2d(960, 160, kernel_size=(1, 1), stride=(1, 1), bias=False)\n",
       "              (bn3): BatchNorm2d(160, eps=0.001, momentum=0.1, affine=True, track_running_stats=True)\n",
       "            )\n",
       "            (8): InvertedResidual(\n",
       "              (conv_pw): Conv2d(160, 960, kernel_size=(1, 1), stride=(1, 1), bias=False)\n",
       "              (bn1): BatchNorm2d(960, eps=0.001, momentum=0.1, affine=True, track_running_stats=True)\n",
       "              (act1): SiLU(inplace=True)\n",
       "              (conv_dw): Conv2d(960, 960, kernel_size=(3, 3), stride=(1, 1), padding=(1, 1), groups=960, bias=False)\n",
       "              (bn2): BatchNorm2d(960, eps=0.001, momentum=0.1, affine=True, track_running_stats=True)\n",
       "              (act2): SiLU(inplace=True)\n",
       "              (se): SqueezeExcite(\n",
       "                (conv_reduce): Conv2d(960, 40, kernel_size=(1, 1), stride=(1, 1))\n",
       "                (act1): SiLU(inplace=True)\n",
       "                (conv_expand): Conv2d(40, 960, kernel_size=(1, 1), stride=(1, 1))\n",
       "              )\n",
       "              (conv_pwl): Conv2d(960, 160, kernel_size=(1, 1), stride=(1, 1), bias=False)\n",
       "              (bn3): BatchNorm2d(160, eps=0.001, momentum=0.1, affine=True, track_running_stats=True)\n",
       "            )\n",
       "            (9): InvertedResidual(\n",
       "              (conv_pw): Conv2d(160, 960, kernel_size=(1, 1), stride=(1, 1), bias=False)\n",
       "              (bn1): BatchNorm2d(960, eps=0.001, momentum=0.1, affine=True, track_running_stats=True)\n",
       "              (act1): SiLU(inplace=True)\n",
       "              (conv_dw): Conv2d(960, 960, kernel_size=(3, 3), stride=(1, 1), padding=(1, 1), groups=960, bias=False)\n",
       "              (bn2): BatchNorm2d(960, eps=0.001, momentum=0.1, affine=True, track_running_stats=True)\n",
       "              (act2): SiLU(inplace=True)\n",
       "              (se): SqueezeExcite(\n",
       "                (conv_reduce): Conv2d(960, 40, kernel_size=(1, 1), stride=(1, 1))\n",
       "                (act1): SiLU(inplace=True)\n",
       "                (conv_expand): Conv2d(40, 960, kernel_size=(1, 1), stride=(1, 1))\n",
       "              )\n",
       "              (conv_pwl): Conv2d(960, 160, kernel_size=(1, 1), stride=(1, 1), bias=False)\n",
       "              (bn3): BatchNorm2d(160, eps=0.001, momentum=0.1, affine=True, track_running_stats=True)\n",
       "            )\n",
       "          )\n",
       "          (4): Sequential(\n",
       "            (0): InvertedResidual(\n",
       "              (conv_pw): Conv2d(160, 960, kernel_size=(1, 1), stride=(1, 1), bias=False)\n",
       "              (bn1): BatchNorm2d(960, eps=0.001, momentum=0.1, affine=True, track_running_stats=True)\n",
       "              (act1): SiLU(inplace=True)\n",
       "              (conv_dw): Conv2d(960, 960, kernel_size=(5, 5), stride=(1, 1), padding=(2, 2), groups=960, bias=False)\n",
       "              (bn2): BatchNorm2d(960, eps=0.001, momentum=0.1, affine=True, track_running_stats=True)\n",
       "              (act2): SiLU(inplace=True)\n",
       "              (se): SqueezeExcite(\n",
       "                (conv_reduce): Conv2d(960, 40, kernel_size=(1, 1), stride=(1, 1))\n",
       "                (act1): SiLU(inplace=True)\n",
       "                (conv_expand): Conv2d(40, 960, kernel_size=(1, 1), stride=(1, 1))\n",
       "              )\n",
       "              (conv_pwl): Conv2d(960, 224, kernel_size=(1, 1), stride=(1, 1), bias=False)\n",
       "              (bn3): BatchNorm2d(224, eps=0.001, momentum=0.1, affine=True, track_running_stats=True)\n",
       "            )\n",
       "            (1): InvertedResidual(\n",
       "              (conv_pw): Conv2d(224, 1344, kernel_size=(1, 1), stride=(1, 1), bias=False)\n",
       "              (bn1): BatchNorm2d(1344, eps=0.001, momentum=0.1, affine=True, track_running_stats=True)\n",
       "              (act1): SiLU(inplace=True)\n",
       "              (conv_dw): Conv2d(1344, 1344, kernel_size=(5, 5), stride=(1, 1), padding=(2, 2), groups=1344, bias=False)\n",
       "              (bn2): BatchNorm2d(1344, eps=0.001, momentum=0.1, affine=True, track_running_stats=True)\n",
       "              (act2): SiLU(inplace=True)\n",
       "              (se): SqueezeExcite(\n",
       "                (conv_reduce): Conv2d(1344, 56, kernel_size=(1, 1), stride=(1, 1))\n",
       "                (act1): SiLU(inplace=True)\n",
       "                (conv_expand): Conv2d(56, 1344, kernel_size=(1, 1), stride=(1, 1))\n",
       "              )\n",
       "              (conv_pwl): Conv2d(1344, 224, kernel_size=(1, 1), stride=(1, 1), bias=False)\n",
       "              (bn3): BatchNorm2d(224, eps=0.001, momentum=0.1, affine=True, track_running_stats=True)\n",
       "            )\n",
       "            (2): InvertedResidual(\n",
       "              (conv_pw): Conv2d(224, 1344, kernel_size=(1, 1), stride=(1, 1), bias=False)\n",
       "              (bn1): BatchNorm2d(1344, eps=0.001, momentum=0.1, affine=True, track_running_stats=True)\n",
       "              (act1): SiLU(inplace=True)\n",
       "              (conv_dw): Conv2d(1344, 1344, kernel_size=(5, 5), stride=(1, 1), padding=(2, 2), groups=1344, bias=False)\n",
       "              (bn2): BatchNorm2d(1344, eps=0.001, momentum=0.1, affine=True, track_running_stats=True)\n",
       "              (act2): SiLU(inplace=True)\n",
       "              (se): SqueezeExcite(\n",
       "                (conv_reduce): Conv2d(1344, 56, kernel_size=(1, 1), stride=(1, 1))\n",
       "                (act1): SiLU(inplace=True)\n",
       "                (conv_expand): Conv2d(56, 1344, kernel_size=(1, 1), stride=(1, 1))\n",
       "              )\n",
       "              (conv_pwl): Conv2d(1344, 224, kernel_size=(1, 1), stride=(1, 1), bias=False)\n",
       "              (bn3): BatchNorm2d(224, eps=0.001, momentum=0.1, affine=True, track_running_stats=True)\n",
       "            )\n",
       "            (3): InvertedResidual(\n",
       "              (conv_pw): Conv2d(224, 1344, kernel_size=(1, 1), stride=(1, 1), bias=False)\n",
       "              (bn1): BatchNorm2d(1344, eps=0.001, momentum=0.1, affine=True, track_running_stats=True)\n",
       "              (act1): SiLU(inplace=True)\n",
       "              (conv_dw): Conv2d(1344, 1344, kernel_size=(5, 5), stride=(1, 1), padding=(2, 2), groups=1344, bias=False)\n",
       "              (bn2): BatchNorm2d(1344, eps=0.001, momentum=0.1, affine=True, track_running_stats=True)\n",
       "              (act2): SiLU(inplace=True)\n",
       "              (se): SqueezeExcite(\n",
       "                (conv_reduce): Conv2d(1344, 56, kernel_size=(1, 1), stride=(1, 1))\n",
       "                (act1): SiLU(inplace=True)\n",
       "                (conv_expand): Conv2d(56, 1344, kernel_size=(1, 1), stride=(1, 1))\n",
       "              )\n",
       "              (conv_pwl): Conv2d(1344, 224, kernel_size=(1, 1), stride=(1, 1), bias=False)\n",
       "              (bn3): BatchNorm2d(224, eps=0.001, momentum=0.1, affine=True, track_running_stats=True)\n",
       "            )\n",
       "            (4): InvertedResidual(\n",
       "              (conv_pw): Conv2d(224, 1344, kernel_size=(1, 1), stride=(1, 1), bias=False)\n",
       "              (bn1): BatchNorm2d(1344, eps=0.001, momentum=0.1, affine=True, track_running_stats=True)\n",
       "              (act1): SiLU(inplace=True)\n",
       "              (conv_dw): Conv2d(1344, 1344, kernel_size=(5, 5), stride=(1, 1), padding=(2, 2), groups=1344, bias=False)\n",
       "              (bn2): BatchNorm2d(1344, eps=0.001, momentum=0.1, affine=True, track_running_stats=True)\n",
       "              (act2): SiLU(inplace=True)\n",
       "              (se): SqueezeExcite(\n",
       "                (conv_reduce): Conv2d(1344, 56, kernel_size=(1, 1), stride=(1, 1))\n",
       "                (act1): SiLU(inplace=True)\n",
       "                (conv_expand): Conv2d(56, 1344, kernel_size=(1, 1), stride=(1, 1))\n",
       "              )\n",
       "              (conv_pwl): Conv2d(1344, 224, kernel_size=(1, 1), stride=(1, 1), bias=False)\n",
       "              (bn3): BatchNorm2d(224, eps=0.001, momentum=0.1, affine=True, track_running_stats=True)\n",
       "            )\n",
       "            (5): InvertedResidual(\n",
       "              (conv_pw): Conv2d(224, 1344, kernel_size=(1, 1), stride=(1, 1), bias=False)\n",
       "              (bn1): BatchNorm2d(1344, eps=0.001, momentum=0.1, affine=True, track_running_stats=True)\n",
       "              (act1): SiLU(inplace=True)\n",
       "              (conv_dw): Conv2d(1344, 1344, kernel_size=(5, 5), stride=(1, 1), padding=(2, 2), groups=1344, bias=False)\n",
       "              (bn2): BatchNorm2d(1344, eps=0.001, momentum=0.1, affine=True, track_running_stats=True)\n",
       "              (act2): SiLU(inplace=True)\n",
       "              (se): SqueezeExcite(\n",
       "                (conv_reduce): Conv2d(1344, 56, kernel_size=(1, 1), stride=(1, 1))\n",
       "                (act1): SiLU(inplace=True)\n",
       "                (conv_expand): Conv2d(56, 1344, kernel_size=(1, 1), stride=(1, 1))\n",
       "              )\n",
       "              (conv_pwl): Conv2d(1344, 224, kernel_size=(1, 1), stride=(1, 1), bias=False)\n",
       "              (bn3): BatchNorm2d(224, eps=0.001, momentum=0.1, affine=True, track_running_stats=True)\n",
       "            )\n",
       "            (6): InvertedResidual(\n",
       "              (conv_pw): Conv2d(224, 1344, kernel_size=(1, 1), stride=(1, 1), bias=False)\n",
       "              (bn1): BatchNorm2d(1344, eps=0.001, momentum=0.1, affine=True, track_running_stats=True)\n",
       "              (act1): SiLU(inplace=True)\n",
       "              (conv_dw): Conv2d(1344, 1344, kernel_size=(5, 5), stride=(1, 1), padding=(2, 2), groups=1344, bias=False)\n",
       "              (bn2): BatchNorm2d(1344, eps=0.001, momentum=0.1, affine=True, track_running_stats=True)\n",
       "              (act2): SiLU(inplace=True)\n",
       "              (se): SqueezeExcite(\n",
       "                (conv_reduce): Conv2d(1344, 56, kernel_size=(1, 1), stride=(1, 1))\n",
       "                (act1): SiLU(inplace=True)\n",
       "                (conv_expand): Conv2d(56, 1344, kernel_size=(1, 1), stride=(1, 1))\n",
       "              )\n",
       "              (conv_pwl): Conv2d(1344, 224, kernel_size=(1, 1), stride=(1, 1), bias=False)\n",
       "              (bn3): BatchNorm2d(224, eps=0.001, momentum=0.1, affine=True, track_running_stats=True)\n",
       "            )\n",
       "            (7): InvertedResidual(\n",
       "              (conv_pw): Conv2d(224, 1344, kernel_size=(1, 1), stride=(1, 1), bias=False)\n",
       "              (bn1): BatchNorm2d(1344, eps=0.001, momentum=0.1, affine=True, track_running_stats=True)\n",
       "              (act1): SiLU(inplace=True)\n",
       "              (conv_dw): Conv2d(1344, 1344, kernel_size=(5, 5), stride=(1, 1), padding=(2, 2), groups=1344, bias=False)\n",
       "              (bn2): BatchNorm2d(1344, eps=0.001, momentum=0.1, affine=True, track_running_stats=True)\n",
       "              (act2): SiLU(inplace=True)\n",
       "              (se): SqueezeExcite(\n",
       "                (conv_reduce): Conv2d(1344, 56, kernel_size=(1, 1), stride=(1, 1))\n",
       "                (act1): SiLU(inplace=True)\n",
       "                (conv_expand): Conv2d(56, 1344, kernel_size=(1, 1), stride=(1, 1))\n",
       "              )\n",
       "              (conv_pwl): Conv2d(1344, 224, kernel_size=(1, 1), stride=(1, 1), bias=False)\n",
       "              (bn3): BatchNorm2d(224, eps=0.001, momentum=0.1, affine=True, track_running_stats=True)\n",
       "            )\n",
       "            (8): InvertedResidual(\n",
       "              (conv_pw): Conv2d(224, 1344, kernel_size=(1, 1), stride=(1, 1), bias=False)\n",
       "              (bn1): BatchNorm2d(1344, eps=0.001, momentum=0.1, affine=True, track_running_stats=True)\n",
       "              (act1): SiLU(inplace=True)\n",
       "              (conv_dw): Conv2d(1344, 1344, kernel_size=(5, 5), stride=(1, 1), padding=(2, 2), groups=1344, bias=False)\n",
       "              (bn2): BatchNorm2d(1344, eps=0.001, momentum=0.1, affine=True, track_running_stats=True)\n",
       "              (act2): SiLU(inplace=True)\n",
       "              (se): SqueezeExcite(\n",
       "                (conv_reduce): Conv2d(1344, 56, kernel_size=(1, 1), stride=(1, 1))\n",
       "                (act1): SiLU(inplace=True)\n",
       "                (conv_expand): Conv2d(56, 1344, kernel_size=(1, 1), stride=(1, 1))\n",
       "              )\n",
       "              (conv_pwl): Conv2d(1344, 224, kernel_size=(1, 1), stride=(1, 1), bias=False)\n",
       "              (bn3): BatchNorm2d(224, eps=0.001, momentum=0.1, affine=True, track_running_stats=True)\n",
       "            )\n",
       "            (9): InvertedResidual(\n",
       "              (conv_pw): Conv2d(224, 1344, kernel_size=(1, 1), stride=(1, 1), bias=False)\n",
       "              (bn1): BatchNorm2d(1344, eps=0.001, momentum=0.1, affine=True, track_running_stats=True)\n",
       "              (act1): SiLU(inplace=True)\n",
       "              (conv_dw): Conv2d(1344, 1344, kernel_size=(5, 5), stride=(1, 1), padding=(2, 2), groups=1344, bias=False)\n",
       "              (bn2): BatchNorm2d(1344, eps=0.001, momentum=0.1, affine=True, track_running_stats=True)\n",
       "              (act2): SiLU(inplace=True)\n",
       "              (se): SqueezeExcite(\n",
       "                (conv_reduce): Conv2d(1344, 56, kernel_size=(1, 1), stride=(1, 1))\n",
       "                (act1): SiLU(inplace=True)\n",
       "                (conv_expand): Conv2d(56, 1344, kernel_size=(1, 1), stride=(1, 1))\n",
       "              )\n",
       "              (conv_pwl): Conv2d(1344, 224, kernel_size=(1, 1), stride=(1, 1), bias=False)\n",
       "              (bn3): BatchNorm2d(224, eps=0.001, momentum=0.1, affine=True, track_running_stats=True)\n",
       "            )\n",
       "          )\n",
       "          (5): Sequential(\n",
       "            (0): InvertedResidual(\n",
       "              (conv_pw): Conv2d(224, 1344, kernel_size=(1, 1), stride=(1, 1), bias=False)\n",
       "              (bn1): BatchNorm2d(1344, eps=0.001, momentum=0.1, affine=True, track_running_stats=True)\n",
       "              (act1): SiLU(inplace=True)\n",
       "              (conv_dw): Conv2dSame(1344, 1344, kernel_size=(5, 5), stride=(2, 2), groups=1344, bias=False)\n",
       "              (bn2): BatchNorm2d(1344, eps=0.001, momentum=0.1, affine=True, track_running_stats=True)\n",
       "              (act2): SiLU(inplace=True)\n",
       "              (se): SqueezeExcite(\n",
       "                (conv_reduce): Conv2d(1344, 56, kernel_size=(1, 1), stride=(1, 1))\n",
       "                (act1): SiLU(inplace=True)\n",
       "                (conv_expand): Conv2d(56, 1344, kernel_size=(1, 1), stride=(1, 1))\n",
       "              )\n",
       "              (conv_pwl): Conv2d(1344, 384, kernel_size=(1, 1), stride=(1, 1), bias=False)\n",
       "              (bn3): BatchNorm2d(384, eps=0.001, momentum=0.1, affine=True, track_running_stats=True)\n",
       "            )\n",
       "            (1): InvertedResidual(\n",
       "              (conv_pw): Conv2d(384, 2304, kernel_size=(1, 1), stride=(1, 1), bias=False)\n",
       "              (bn1): BatchNorm2d(2304, eps=0.001, momentum=0.1, affine=True, track_running_stats=True)\n",
       "              (act1): SiLU(inplace=True)\n",
       "              (conv_dw): Conv2d(2304, 2304, kernel_size=(5, 5), stride=(1, 1), padding=(2, 2), groups=2304, bias=False)\n",
       "              (bn2): BatchNorm2d(2304, eps=0.001, momentum=0.1, affine=True, track_running_stats=True)\n",
       "              (act2): SiLU(inplace=True)\n",
       "              (se): SqueezeExcite(\n",
       "                (conv_reduce): Conv2d(2304, 96, kernel_size=(1, 1), stride=(1, 1))\n",
       "                (act1): SiLU(inplace=True)\n",
       "                (conv_expand): Conv2d(96, 2304, kernel_size=(1, 1), stride=(1, 1))\n",
       "              )\n",
       "              (conv_pwl): Conv2d(2304, 384, kernel_size=(1, 1), stride=(1, 1), bias=False)\n",
       "              (bn3): BatchNorm2d(384, eps=0.001, momentum=0.1, affine=True, track_running_stats=True)\n",
       "            )\n",
       "            (2): InvertedResidual(\n",
       "              (conv_pw): Conv2d(384, 2304, kernel_size=(1, 1), stride=(1, 1), bias=False)\n",
       "              (bn1): BatchNorm2d(2304, eps=0.001, momentum=0.1, affine=True, track_running_stats=True)\n",
       "              (act1): SiLU(inplace=True)\n",
       "              (conv_dw): Conv2d(2304, 2304, kernel_size=(5, 5), stride=(1, 1), padding=(2, 2), groups=2304, bias=False)\n",
       "              (bn2): BatchNorm2d(2304, eps=0.001, momentum=0.1, affine=True, track_running_stats=True)\n",
       "              (act2): SiLU(inplace=True)\n",
       "              (se): SqueezeExcite(\n",
       "                (conv_reduce): Conv2d(2304, 96, kernel_size=(1, 1), stride=(1, 1))\n",
       "                (act1): SiLU(inplace=True)\n",
       "                (conv_expand): Conv2d(96, 2304, kernel_size=(1, 1), stride=(1, 1))\n",
       "              )\n",
       "              (conv_pwl): Conv2d(2304, 384, kernel_size=(1, 1), stride=(1, 1), bias=False)\n",
       "              (bn3): BatchNorm2d(384, eps=0.001, momentum=0.1, affine=True, track_running_stats=True)\n",
       "            )\n",
       "            (3): InvertedResidual(\n",
       "              (conv_pw): Conv2d(384, 2304, kernel_size=(1, 1), stride=(1, 1), bias=False)\n",
       "              (bn1): BatchNorm2d(2304, eps=0.001, momentum=0.1, affine=True, track_running_stats=True)\n",
       "              (act1): SiLU(inplace=True)\n",
       "              (conv_dw): Conv2d(2304, 2304, kernel_size=(5, 5), stride=(1, 1), padding=(2, 2), groups=2304, bias=False)\n",
       "              (bn2): BatchNorm2d(2304, eps=0.001, momentum=0.1, affine=True, track_running_stats=True)\n",
       "              (act2): SiLU(inplace=True)\n",
       "              (se): SqueezeExcite(\n",
       "                (conv_reduce): Conv2d(2304, 96, kernel_size=(1, 1), stride=(1, 1))\n",
       "                (act1): SiLU(inplace=True)\n",
       "                (conv_expand): Conv2d(96, 2304, kernel_size=(1, 1), stride=(1, 1))\n",
       "              )\n",
       "              (conv_pwl): Conv2d(2304, 384, kernel_size=(1, 1), stride=(1, 1), bias=False)\n",
       "              (bn3): BatchNorm2d(384, eps=0.001, momentum=0.1, affine=True, track_running_stats=True)\n",
       "            )\n",
       "            (4): InvertedResidual(\n",
       "              (conv_pw): Conv2d(384, 2304, kernel_size=(1, 1), stride=(1, 1), bias=False)\n",
       "              (bn1): BatchNorm2d(2304, eps=0.001, momentum=0.1, affine=True, track_running_stats=True)\n",
       "              (act1): SiLU(inplace=True)\n",
       "              (conv_dw): Conv2d(2304, 2304, kernel_size=(5, 5), stride=(1, 1), padding=(2, 2), groups=2304, bias=False)\n",
       "              (bn2): BatchNorm2d(2304, eps=0.001, momentum=0.1, affine=True, track_running_stats=True)\n",
       "              (act2): SiLU(inplace=True)\n",
       "              (se): SqueezeExcite(\n",
       "                (conv_reduce): Conv2d(2304, 96, kernel_size=(1, 1), stride=(1, 1))\n",
       "                (act1): SiLU(inplace=True)\n",
       "                (conv_expand): Conv2d(96, 2304, kernel_size=(1, 1), stride=(1, 1))\n",
       "              )\n",
       "              (conv_pwl): Conv2d(2304, 384, kernel_size=(1, 1), stride=(1, 1), bias=False)\n",
       "              (bn3): BatchNorm2d(384, eps=0.001, momentum=0.1, affine=True, track_running_stats=True)\n",
       "            )\n",
       "            (5): InvertedResidual(\n",
       "              (conv_pw): Conv2d(384, 2304, kernel_size=(1, 1), stride=(1, 1), bias=False)\n",
       "              (bn1): BatchNorm2d(2304, eps=0.001, momentum=0.1, affine=True, track_running_stats=True)\n",
       "              (act1): SiLU(inplace=True)\n",
       "              (conv_dw): Conv2d(2304, 2304, kernel_size=(5, 5), stride=(1, 1), padding=(2, 2), groups=2304, bias=False)\n",
       "              (bn2): BatchNorm2d(2304, eps=0.001, momentum=0.1, affine=True, track_running_stats=True)\n",
       "              (act2): SiLU(inplace=True)\n",
       "              (se): SqueezeExcite(\n",
       "                (conv_reduce): Conv2d(2304, 96, kernel_size=(1, 1), stride=(1, 1))\n",
       "                (act1): SiLU(inplace=True)\n",
       "                (conv_expand): Conv2d(96, 2304, kernel_size=(1, 1), stride=(1, 1))\n",
       "              )\n",
       "              (conv_pwl): Conv2d(2304, 384, kernel_size=(1, 1), stride=(1, 1), bias=False)\n",
       "              (bn3): BatchNorm2d(384, eps=0.001, momentum=0.1, affine=True, track_running_stats=True)\n",
       "            )\n",
       "            (6): InvertedResidual(\n",
       "              (conv_pw): Conv2d(384, 2304, kernel_size=(1, 1), stride=(1, 1), bias=False)\n",
       "              (bn1): BatchNorm2d(2304, eps=0.001, momentum=0.1, affine=True, track_running_stats=True)\n",
       "              (act1): SiLU(inplace=True)\n",
       "              (conv_dw): Conv2d(2304, 2304, kernel_size=(5, 5), stride=(1, 1), padding=(2, 2), groups=2304, bias=False)\n",
       "              (bn2): BatchNorm2d(2304, eps=0.001, momentum=0.1, affine=True, track_running_stats=True)\n",
       "              (act2): SiLU(inplace=True)\n",
       "              (se): SqueezeExcite(\n",
       "                (conv_reduce): Conv2d(2304, 96, kernel_size=(1, 1), stride=(1, 1))\n",
       "                (act1): SiLU(inplace=True)\n",
       "                (conv_expand): Conv2d(96, 2304, kernel_size=(1, 1), stride=(1, 1))\n",
       "              )\n",
       "              (conv_pwl): Conv2d(2304, 384, kernel_size=(1, 1), stride=(1, 1), bias=False)\n",
       "              (bn3): BatchNorm2d(384, eps=0.001, momentum=0.1, affine=True, track_running_stats=True)\n",
       "            )\n",
       "            (7): InvertedResidual(\n",
       "              (conv_pw): Conv2d(384, 2304, kernel_size=(1, 1), stride=(1, 1), bias=False)\n",
       "              (bn1): BatchNorm2d(2304, eps=0.001, momentum=0.1, affine=True, track_running_stats=True)\n",
       "              (act1): SiLU(inplace=True)\n",
       "              (conv_dw): Conv2d(2304, 2304, kernel_size=(5, 5), stride=(1, 1), padding=(2, 2), groups=2304, bias=False)\n",
       "              (bn2): BatchNorm2d(2304, eps=0.001, momentum=0.1, affine=True, track_running_stats=True)\n",
       "              (act2): SiLU(inplace=True)\n",
       "              (se): SqueezeExcite(\n",
       "                (conv_reduce): Conv2d(2304, 96, kernel_size=(1, 1), stride=(1, 1))\n",
       "                (act1): SiLU(inplace=True)\n",
       "                (conv_expand): Conv2d(96, 2304, kernel_size=(1, 1), stride=(1, 1))\n",
       "              )\n",
       "              (conv_pwl): Conv2d(2304, 384, kernel_size=(1, 1), stride=(1, 1), bias=False)\n",
       "              (bn3): BatchNorm2d(384, eps=0.001, momentum=0.1, affine=True, track_running_stats=True)\n",
       "            )\n",
       "            (8): InvertedResidual(\n",
       "              (conv_pw): Conv2d(384, 2304, kernel_size=(1, 1), stride=(1, 1), bias=False)\n",
       "              (bn1): BatchNorm2d(2304, eps=0.001, momentum=0.1, affine=True, track_running_stats=True)\n",
       "              (act1): SiLU(inplace=True)\n",
       "              (conv_dw): Conv2d(2304, 2304, kernel_size=(5, 5), stride=(1, 1), padding=(2, 2), groups=2304, bias=False)\n",
       "              (bn2): BatchNorm2d(2304, eps=0.001, momentum=0.1, affine=True, track_running_stats=True)\n",
       "              (act2): SiLU(inplace=True)\n",
       "              (se): SqueezeExcite(\n",
       "                (conv_reduce): Conv2d(2304, 96, kernel_size=(1, 1), stride=(1, 1))\n",
       "                (act1): SiLU(inplace=True)\n",
       "                (conv_expand): Conv2d(96, 2304, kernel_size=(1, 1), stride=(1, 1))\n",
       "              )\n",
       "              (conv_pwl): Conv2d(2304, 384, kernel_size=(1, 1), stride=(1, 1), bias=False)\n",
       "              (bn3): BatchNorm2d(384, eps=0.001, momentum=0.1, affine=True, track_running_stats=True)\n",
       "            )\n",
       "            (9): InvertedResidual(\n",
       "              (conv_pw): Conv2d(384, 2304, kernel_size=(1, 1), stride=(1, 1), bias=False)\n",
       "              (bn1): BatchNorm2d(2304, eps=0.001, momentum=0.1, affine=True, track_running_stats=True)\n",
       "              (act1): SiLU(inplace=True)\n",
       "              (conv_dw): Conv2d(2304, 2304, kernel_size=(5, 5), stride=(1, 1), padding=(2, 2), groups=2304, bias=False)\n",
       "              (bn2): BatchNorm2d(2304, eps=0.001, momentum=0.1, affine=True, track_running_stats=True)\n",
       "              (act2): SiLU(inplace=True)\n",
       "              (se): SqueezeExcite(\n",
       "                (conv_reduce): Conv2d(2304, 96, kernel_size=(1, 1), stride=(1, 1))\n",
       "                (act1): SiLU(inplace=True)\n",
       "                (conv_expand): Conv2d(96, 2304, kernel_size=(1, 1), stride=(1, 1))\n",
       "              )\n",
       "              (conv_pwl): Conv2d(2304, 384, kernel_size=(1, 1), stride=(1, 1), bias=False)\n",
       "              (bn3): BatchNorm2d(384, eps=0.001, momentum=0.1, affine=True, track_running_stats=True)\n",
       "            )\n",
       "            (10): InvertedResidual(\n",
       "              (conv_pw): Conv2d(384, 2304, kernel_size=(1, 1), stride=(1, 1), bias=False)\n",
       "              (bn1): BatchNorm2d(2304, eps=0.001, momentum=0.1, affine=True, track_running_stats=True)\n",
       "              (act1): SiLU(inplace=True)\n",
       "              (conv_dw): Conv2d(2304, 2304, kernel_size=(5, 5), stride=(1, 1), padding=(2, 2), groups=2304, bias=False)\n",
       "              (bn2): BatchNorm2d(2304, eps=0.001, momentum=0.1, affine=True, track_running_stats=True)\n",
       "              (act2): SiLU(inplace=True)\n",
       "              (se): SqueezeExcite(\n",
       "                (conv_reduce): Conv2d(2304, 96, kernel_size=(1, 1), stride=(1, 1))\n",
       "                (act1): SiLU(inplace=True)\n",
       "                (conv_expand): Conv2d(96, 2304, kernel_size=(1, 1), stride=(1, 1))\n",
       "              )\n",
       "              (conv_pwl): Conv2d(2304, 384, kernel_size=(1, 1), stride=(1, 1), bias=False)\n",
       "              (bn3): BatchNorm2d(384, eps=0.001, momentum=0.1, affine=True, track_running_stats=True)\n",
       "            )\n",
       "            (11): InvertedResidual(\n",
       "              (conv_pw): Conv2d(384, 2304, kernel_size=(1, 1), stride=(1, 1), bias=False)\n",
       "              (bn1): BatchNorm2d(2304, eps=0.001, momentum=0.1, affine=True, track_running_stats=True)\n",
       "              (act1): SiLU(inplace=True)\n",
       "              (conv_dw): Conv2d(2304, 2304, kernel_size=(5, 5), stride=(1, 1), padding=(2, 2), groups=2304, bias=False)\n",
       "              (bn2): BatchNorm2d(2304, eps=0.001, momentum=0.1, affine=True, track_running_stats=True)\n",
       "              (act2): SiLU(inplace=True)\n",
       "              (se): SqueezeExcite(\n",
       "                (conv_reduce): Conv2d(2304, 96, kernel_size=(1, 1), stride=(1, 1))\n",
       "                (act1): SiLU(inplace=True)\n",
       "                (conv_expand): Conv2d(96, 2304, kernel_size=(1, 1), stride=(1, 1))\n",
       "              )\n",
       "              (conv_pwl): Conv2d(2304, 384, kernel_size=(1, 1), stride=(1, 1), bias=False)\n",
       "              (bn3): BatchNorm2d(384, eps=0.001, momentum=0.1, affine=True, track_running_stats=True)\n",
       "            )\n",
       "            (12): InvertedResidual(\n",
       "              (conv_pw): Conv2d(384, 2304, kernel_size=(1, 1), stride=(1, 1), bias=False)\n",
       "              (bn1): BatchNorm2d(2304, eps=0.001, momentum=0.1, affine=True, track_running_stats=True)\n",
       "              (act1): SiLU(inplace=True)\n",
       "              (conv_dw): Conv2d(2304, 2304, kernel_size=(5, 5), stride=(1, 1), padding=(2, 2), groups=2304, bias=False)\n",
       "              (bn2): BatchNorm2d(2304, eps=0.001, momentum=0.1, affine=True, track_running_stats=True)\n",
       "              (act2): SiLU(inplace=True)\n",
       "              (se): SqueezeExcite(\n",
       "                (conv_reduce): Conv2d(2304, 96, kernel_size=(1, 1), stride=(1, 1))\n",
       "                (act1): SiLU(inplace=True)\n",
       "                (conv_expand): Conv2d(96, 2304, kernel_size=(1, 1), stride=(1, 1))\n",
       "              )\n",
       "              (conv_pwl): Conv2d(2304, 384, kernel_size=(1, 1), stride=(1, 1), bias=False)\n",
       "              (bn3): BatchNorm2d(384, eps=0.001, momentum=0.1, affine=True, track_running_stats=True)\n",
       "            )\n",
       "          )\n",
       "          (6): Sequential(\n",
       "            (0): InvertedResidual(\n",
       "              (conv_pw): Conv2d(384, 2304, kernel_size=(1, 1), stride=(1, 1), bias=False)\n",
       "              (bn1): BatchNorm2d(2304, eps=0.001, momentum=0.1, affine=True, track_running_stats=True)\n",
       "              (act1): SiLU(inplace=True)\n",
       "              (conv_dw): Conv2d(2304, 2304, kernel_size=(3, 3), stride=(1, 1), padding=(1, 1), groups=2304, bias=False)\n",
       "              (bn2): BatchNorm2d(2304, eps=0.001, momentum=0.1, affine=True, track_running_stats=True)\n",
       "              (act2): SiLU(inplace=True)\n",
       "              (se): SqueezeExcite(\n",
       "                (conv_reduce): Conv2d(2304, 96, kernel_size=(1, 1), stride=(1, 1))\n",
       "                (act1): SiLU(inplace=True)\n",
       "                (conv_expand): Conv2d(96, 2304, kernel_size=(1, 1), stride=(1, 1))\n",
       "              )\n",
       "              (conv_pwl): Conv2d(2304, 640, kernel_size=(1, 1), stride=(1, 1), bias=False)\n",
       "              (bn3): BatchNorm2d(640, eps=0.001, momentum=0.1, affine=True, track_running_stats=True)\n",
       "            )\n",
       "            (1): InvertedResidual(\n",
       "              (conv_pw): Conv2d(640, 3840, kernel_size=(1, 1), stride=(1, 1), bias=False)\n",
       "              (bn1): BatchNorm2d(3840, eps=0.001, momentum=0.1, affine=True, track_running_stats=True)\n",
       "              (act1): SiLU(inplace=True)\n",
       "              (conv_dw): Conv2d(3840, 3840, kernel_size=(3, 3), stride=(1, 1), padding=(1, 1), groups=3840, bias=False)\n",
       "              (bn2): BatchNorm2d(3840, eps=0.001, momentum=0.1, affine=True, track_running_stats=True)\n",
       "              (act2): SiLU(inplace=True)\n",
       "              (se): SqueezeExcite(\n",
       "                (conv_reduce): Conv2d(3840, 160, kernel_size=(1, 1), stride=(1, 1))\n",
       "                (act1): SiLU(inplace=True)\n",
       "                (conv_expand): Conv2d(160, 3840, kernel_size=(1, 1), stride=(1, 1))\n",
       "              )\n",
       "              (conv_pwl): Conv2d(3840, 640, kernel_size=(1, 1), stride=(1, 1), bias=False)\n",
       "              (bn3): BatchNorm2d(640, eps=0.001, momentum=0.1, affine=True, track_running_stats=True)\n",
       "            )\n",
       "            (2): InvertedResidual(\n",
       "              (conv_pw): Conv2d(640, 3840, kernel_size=(1, 1), stride=(1, 1), bias=False)\n",
       "              (bn1): BatchNorm2d(3840, eps=0.001, momentum=0.1, affine=True, track_running_stats=True)\n",
       "              (act1): SiLU(inplace=True)\n",
       "              (conv_dw): Conv2d(3840, 3840, kernel_size=(3, 3), stride=(1, 1), padding=(1, 1), groups=3840, bias=False)\n",
       "              (bn2): BatchNorm2d(3840, eps=0.001, momentum=0.1, affine=True, track_running_stats=True)\n",
       "              (act2): SiLU(inplace=True)\n",
       "              (se): SqueezeExcite(\n",
       "                (conv_reduce): Conv2d(3840, 160, kernel_size=(1, 1), stride=(1, 1))\n",
       "                (act1): SiLU(inplace=True)\n",
       "                (conv_expand): Conv2d(160, 3840, kernel_size=(1, 1), stride=(1, 1))\n",
       "              )\n",
       "              (conv_pwl): Conv2d(3840, 640, kernel_size=(1, 1), stride=(1, 1), bias=False)\n",
       "              (bn3): BatchNorm2d(640, eps=0.001, momentum=0.1, affine=True, track_running_stats=True)\n",
       "            )\n",
       "            (3): InvertedResidual(\n",
       "              (conv_pw): Conv2d(640, 3840, kernel_size=(1, 1), stride=(1, 1), bias=False)\n",
       "              (bn1): BatchNorm2d(3840, eps=0.001, momentum=0.1, affine=True, track_running_stats=True)\n",
       "              (act1): SiLU(inplace=True)\n",
       "              (conv_dw): Conv2d(3840, 3840, kernel_size=(3, 3), stride=(1, 1), padding=(1, 1), groups=3840, bias=False)\n",
       "              (bn2): BatchNorm2d(3840, eps=0.001, momentum=0.1, affine=True, track_running_stats=True)\n",
       "              (act2): SiLU(inplace=True)\n",
       "              (se): SqueezeExcite(\n",
       "                (conv_reduce): Conv2d(3840, 160, kernel_size=(1, 1), stride=(1, 1))\n",
       "                (act1): SiLU(inplace=True)\n",
       "                (conv_expand): Conv2d(160, 3840, kernel_size=(1, 1), stride=(1, 1))\n",
       "              )\n",
       "              (conv_pwl): Conv2d(3840, 640, kernel_size=(1, 1), stride=(1, 1), bias=False)\n",
       "              (bn3): BatchNorm2d(640, eps=0.001, momentum=0.1, affine=True, track_running_stats=True)\n",
       "            )\n",
       "          )\n",
       "        )\n",
       "        (conv_head): Conv2d(640, 2560, kernel_size=(1, 1), stride=(1, 1), bias=False)\n",
       "        (bn2): BatchNorm2d(2560, eps=0.001, momentum=0.1, affine=True, track_running_stats=True)\n",
       "        (act2): SiLU(inplace=True)\n",
       "        (global_pool): Identity()\n",
       "        (classifier): Identity()\n",
       "      )\n",
       "    )\n",
       "    (decoder): DecoderBN(\n",
       "      (conv2): Conv2d(2560, 2560, kernel_size=(1, 1), stride=(1, 1), padding=(1, 1))\n",
       "      (resize_output_1_1): Conv2d(80, 200, kernel_size=(1, 1), stride=(1, 1))\n",
       "      (resize_output_1_2): Conv2d(160, 200, kernel_size=(1, 1), stride=(1, 1))\n",
       "      (resize_output_1_4): Conv2d(320, 200, kernel_size=(1, 1), stride=(1, 1))\n",
       "      (resize_output_1_8): Conv2d(640, 200, kernel_size=(1, 1), stride=(1, 1))\n",
       "      (resize_output_1_16): Conv2d(1280, 200, kernel_size=(1, 1), stride=(1, 1))\n",
       "      (up16): UpSampleBN(\n",
       "        (_net): Sequential(\n",
       "          (0): Conv2d(2784, 1280, kernel_size=(3, 3), stride=(1, 1), padding=(1, 1))\n",
       "          (1): BatchNorm2d(1280, eps=1e-05, momentum=0.1, affine=True, track_running_stats=True)\n",
       "          (2): LeakyReLU(negative_slope=0.01)\n",
       "          (3): Conv2d(1280, 1280, kernel_size=(3, 3), stride=(1, 1), padding=(1, 1))\n",
       "          (4): BatchNorm2d(1280, eps=1e-05, momentum=0.1, affine=True, track_running_stats=True)\n",
       "          (5): LeakyReLU(negative_slope=0.01)\n",
       "        )\n",
       "      )\n",
       "      (up8): UpSampleBN(\n",
       "        (_net): Sequential(\n",
       "          (0): Conv2d(1360, 640, kernel_size=(3, 3), stride=(1, 1), padding=(1, 1))\n",
       "          (1): BatchNorm2d(640, eps=1e-05, momentum=0.1, affine=True, track_running_stats=True)\n",
       "          (2): LeakyReLU(negative_slope=0.01)\n",
       "          (3): Conv2d(640, 640, kernel_size=(3, 3), stride=(1, 1), padding=(1, 1))\n",
       "          (4): BatchNorm2d(640, eps=1e-05, momentum=0.1, affine=True, track_running_stats=True)\n",
       "          (5): LeakyReLU(negative_slope=0.01)\n",
       "        )\n",
       "      )\n",
       "      (up4): UpSampleBN(\n",
       "        (_net): Sequential(\n",
       "          (0): Conv2d(688, 320, kernel_size=(3, 3), stride=(1, 1), padding=(1, 1))\n",
       "          (1): BatchNorm2d(320, eps=1e-05, momentum=0.1, affine=True, track_running_stats=True)\n",
       "          (2): LeakyReLU(negative_slope=0.01)\n",
       "          (3): Conv2d(320, 320, kernel_size=(3, 3), stride=(1, 1), padding=(1, 1))\n",
       "          (4): BatchNorm2d(320, eps=1e-05, momentum=0.1, affine=True, track_running_stats=True)\n",
       "          (5): LeakyReLU(negative_slope=0.01)\n",
       "        )\n",
       "      )\n",
       "      (up2): UpSampleBN(\n",
       "        (_net): Sequential(\n",
       "          (0): Conv2d(352, 160, kernel_size=(3, 3), stride=(1, 1), padding=(1, 1))\n",
       "          (1): BatchNorm2d(160, eps=1e-05, momentum=0.1, affine=True, track_running_stats=True)\n",
       "          (2): LeakyReLU(negative_slope=0.01)\n",
       "          (3): Conv2d(160, 160, kernel_size=(3, 3), stride=(1, 1), padding=(1, 1))\n",
       "          (4): BatchNorm2d(160, eps=1e-05, momentum=0.1, affine=True, track_running_stats=True)\n",
       "          (5): LeakyReLU(negative_slope=0.01)\n",
       "        )\n",
       "      )\n",
       "      (up1): UpSampleBN(\n",
       "        (_net): Sequential(\n",
       "          (0): Conv2d(163, 80, kernel_size=(3, 3), stride=(1, 1), padding=(1, 1))\n",
       "          (1): BatchNorm2d(80, eps=1e-05, momentum=0.1, affine=True, track_running_stats=True)\n",
       "          (2): LeakyReLU(negative_slope=0.01)\n",
       "          (3): Conv2d(80, 80, kernel_size=(3, 3), stride=(1, 1), padding=(1, 1))\n",
       "          (4): BatchNorm2d(80, eps=1e-05, momentum=0.1, affine=True, track_running_stats=True)\n",
       "          (5): LeakyReLU(negative_slope=0.01)\n",
       "        )\n",
       "      )\n",
       "    )\n",
       "  )\n",
       ")"
      ]
     },
     "execution_count": 14,
     "metadata": {},
     "output_type": "execute_result"
    }
   ],
   "source": [
    "model_path = \"/monoscene/MonoScene/trained_models/monoscene_nyu.ckpt\"\n",
    "model = MonoScene.load_from_checkpoint(\n",
    "        model_path,\n",
    "        feature=feature,\n",
    "        project_scale=project_scale,\n",
    "        fp_loss=config.fp_loss,\n",
    "        full_scene_size=full_scene_size,\n",
    "    )\n",
    "model.cuda()\n",
    "model.eval()"
   ]
  },
  {
   "cell_type": "markdown",
   "id": "921a8e0b",
   "metadata": {},
   "source": [
    "# Inference"
   ]
  },
  {
   "cell_type": "code",
   "execution_count": 15,
   "id": "91e183a4",
   "metadata": {},
   "outputs": [
    {
     "name": "stderr",
     "output_type": "stream",
     "text": [
      "  0%|          | 1/218 [00:02<10:08,  2.80s/it]"
     ]
    },
    {
     "name": "stdout",
     "output_type": "stream",
     "text": [
      "wrote to /monoscene/Monoscene/outputs/NYU0212_0000.pkl\n"
     ]
    },
    {
     "name": "stderr",
     "output_type": "stream",
     "text": [
      "\r",
      "  1%|          | 2/218 [00:04<08:42,  2.42s/it]"
     ]
    },
    {
     "name": "stdout",
     "output_type": "stream",
     "text": [
      "wrote to /monoscene/Monoscene/outputs/NYU0302_0000.pkl\n"
     ]
    },
    {
     "name": "stderr",
     "output_type": "stream",
     "text": [
      "\r",
      "  1%|▏         | 3/218 [00:05<07:38,  2.13s/it]"
     ]
    },
    {
     "name": "stdout",
     "output_type": "stream",
     "text": [
      "wrote to /monoscene/Monoscene/outputs/NYU0522_0000.pkl\n"
     ]
    },
    {
     "name": "stderr",
     "output_type": "stream",
     "text": [
      "\r",
      "  2%|▏         | 4/218 [00:07<06:53,  1.93s/it]"
     ]
    },
    {
     "name": "stdout",
     "output_type": "stream",
     "text": [
      "wrote to /monoscene/Monoscene/outputs/NYU1171_0000.pkl\n"
     ]
    },
    {
     "name": "stderr",
     "output_type": "stream",
     "text": [
      "\r",
      "  2%|▏         | 5/218 [00:08<06:27,  1.82s/it]"
     ]
    },
    {
     "name": "stdout",
     "output_type": "stream",
     "text": [
      "wrote to /monoscene/Monoscene/outputs/NYU1293_0000.pkl\n"
     ]
    },
    {
     "name": "stderr",
     "output_type": "stream",
     "text": [
      "\r",
      "  3%|▎         | 6/218 [00:10<06:04,  1.72s/it]"
     ]
    },
    {
     "name": "stdout",
     "output_type": "stream",
     "text": [
      "wrote to /monoscene/Monoscene/outputs/NYU1101_0000.pkl\n"
     ]
    },
    {
     "name": "stderr",
     "output_type": "stream",
     "text": [
      "\r",
      "  3%|▎         | 7/218 [00:11<05:49,  1.66s/it]"
     ]
    },
    {
     "name": "stdout",
     "output_type": "stream",
     "text": [
      "wrote to /monoscene/Monoscene/outputs/NYU0001_0000.pkl\n"
     ]
    },
    {
     "name": "stderr",
     "output_type": "stream",
     "text": [
      "\r",
      "  4%|▎         | 8/218 [00:13<05:38,  1.61s/it]"
     ]
    },
    {
     "name": "stdout",
     "output_type": "stream",
     "text": [
      "wrote to /monoscene/Monoscene/outputs/NYU1012_0000.pkl\n"
     ]
    },
    {
     "name": "stderr",
     "output_type": "stream",
     "text": [
      "\r",
      "  4%|▍         | 9/218 [00:14<05:31,  1.58s/it]"
     ]
    },
    {
     "name": "stdout",
     "output_type": "stream",
     "text": [
      "wrote to /monoscene/Monoscene/outputs/NYU0773_0000.pkl\n"
     ]
    },
    {
     "name": "stderr",
     "output_type": "stream",
     "text": [
      "\r",
      "  5%|▍         | 10/218 [00:16<05:28,  1.58s/it]"
     ]
    },
    {
     "name": "stdout",
     "output_type": "stream",
     "text": [
      "wrote to /monoscene/Monoscene/outputs/NYU0035_0000.pkl\n"
     ]
    },
    {
     "name": "stderr",
     "output_type": "stream",
     "text": [
      "\r",
      "  5%|▌         | 11/218 [00:17<05:24,  1.57s/it]"
     ]
    },
    {
     "name": "stdout",
     "output_type": "stream",
     "text": [
      "wrote to /monoscene/Monoscene/outputs/NYU0298_0000.pkl\n"
     ]
    },
    {
     "name": "stderr",
     "output_type": "stream",
     "text": [
      "\r",
      "  6%|▌         | 12/218 [00:19<05:15,  1.53s/it]"
     ]
    },
    {
     "name": "stdout",
     "output_type": "stream",
     "text": [
      "wrote to /monoscene/Monoscene/outputs/NYU0033_0000.pkl\n"
     ]
    },
    {
     "name": "stderr",
     "output_type": "stream",
     "text": [
      "\r",
      "  6%|▌         | 13/218 [00:20<05:09,  1.51s/it]"
     ]
    },
    {
     "name": "stdout",
     "output_type": "stream",
     "text": [
      "wrote to /monoscene/Monoscene/outputs/NYU0555_0000.pkl\n"
     ]
    },
    {
     "name": "stderr",
     "output_type": "stream",
     "text": [
      "\r",
      "  6%|▋         | 14/218 [00:22<05:05,  1.50s/it]"
     ]
    },
    {
     "name": "stdout",
     "output_type": "stream",
     "text": [
      "wrote to /monoscene/Monoscene/outputs/NYU1163_0000.pkl\n"
     ]
    },
    {
     "name": "stderr",
     "output_type": "stream",
     "text": [
      "\r",
      "  7%|▋         | 15/218 [00:23<05:05,  1.50s/it]"
     ]
    },
    {
     "name": "stdout",
     "output_type": "stream",
     "text": [
      "wrote to /monoscene/Monoscene/outputs/NYU0207_0000.pkl\n"
     ]
    },
    {
     "name": "stderr",
     "output_type": "stream",
     "text": [
      "\r",
      "  7%|▋         | 16/218 [00:25<05:00,  1.49s/it]"
     ]
    },
    {
     "name": "stdout",
     "output_type": "stream",
     "text": [
      "wrote to /monoscene/Monoscene/outputs/NYU1399_0000.pkl\n"
     ]
    },
    {
     "name": "stderr",
     "output_type": "stream",
     "text": [
      "\r",
      "  8%|▊         | 17/218 [00:26<05:01,  1.50s/it]"
     ]
    },
    {
     "name": "stdout",
     "output_type": "stream",
     "text": [
      "wrote to /monoscene/Monoscene/outputs/NYU1038_0000.pkl\n"
     ]
    },
    {
     "name": "stderr",
     "output_type": "stream",
     "text": [
      "\r",
      "  8%|▊         | 18/218 [00:28<04:59,  1.50s/it]"
     ]
    },
    {
     "name": "stdout",
     "output_type": "stream",
     "text": [
      "wrote to /monoscene/Monoscene/outputs/NYU0935_0000.pkl\n"
     ]
    },
    {
     "name": "stderr",
     "output_type": "stream",
     "text": [
      "\r",
      "  9%|▊         | 19/218 [00:29<04:57,  1.49s/it]"
     ]
    },
    {
     "name": "stdout",
     "output_type": "stream",
     "text": [
      "wrote to /monoscene/Monoscene/outputs/NYU0619_0000.pkl\n"
     ]
    },
    {
     "name": "stderr",
     "output_type": "stream",
     "text": [
      "\r",
      "  9%|▉         | 20/218 [00:31<04:58,  1.51s/it]"
     ]
    },
    {
     "name": "stdout",
     "output_type": "stream",
     "text": [
      "wrote to /monoscene/Monoscene/outputs/NYU0088_0000.pkl\n"
     ]
    },
    {
     "name": "stderr",
     "output_type": "stream",
     "text": [
      "\r",
      " 10%|▉         | 21/218 [00:32<04:58,  1.51s/it]"
     ]
    },
    {
     "name": "stdout",
     "output_type": "stream",
     "text": [
      "wrote to /monoscene/Monoscene/outputs/NYU0851_0000.pkl\n"
     ]
    },
    {
     "name": "stderr",
     "output_type": "stream",
     "text": [
      "\r",
      " 10%|█         | 22/218 [00:34<04:59,  1.53s/it]"
     ]
    },
    {
     "name": "stdout",
     "output_type": "stream",
     "text": [
      "wrote to /monoscene/Monoscene/outputs/NYU1196_0000.pkl\n"
     ]
    },
    {
     "name": "stderr",
     "output_type": "stream",
     "text": [
      "\r",
      " 11%|█         | 23/218 [00:35<04:58,  1.53s/it]"
     ]
    },
    {
     "name": "stdout",
     "output_type": "stream",
     "text": [
      "wrote to /monoscene/Monoscene/outputs/NYU1287_0000.pkl\n"
     ]
    },
    {
     "name": "stderr",
     "output_type": "stream",
     "text": [
      "\r",
      " 11%|█         | 24/218 [00:37<04:56,  1.53s/it]"
     ]
    },
    {
     "name": "stdout",
     "output_type": "stream",
     "text": [
      "wrote to /monoscene/Monoscene/outputs/NYU0221_0000.pkl\n"
     ]
    },
    {
     "name": "stderr",
     "output_type": "stream",
     "text": [
      "\r",
      " 11%|█▏        | 25/218 [00:38<04:51,  1.51s/it]"
     ]
    },
    {
     "name": "stdout",
     "output_type": "stream",
     "text": [
      "wrote to /monoscene/Monoscene/outputs/NYU0511_0000.pkl\n"
     ]
    },
    {
     "name": "stderr",
     "output_type": "stream",
     "text": [
      "\r",
      " 12%|█▏        | 26/218 [00:40<04:49,  1.51s/it]"
     ]
    },
    {
     "name": "stdout",
     "output_type": "stream",
     "text": [
      "wrote to /monoscene/Monoscene/outputs/NYU1150_0000.pkl\n"
     ]
    },
    {
     "name": "stderr",
     "output_type": "stream",
     "text": [
      "\r",
      " 12%|█▏        | 27/218 [00:41<04:45,  1.50s/it]"
     ]
    },
    {
     "name": "stdout",
     "output_type": "stream",
     "text": [
      "wrote to /monoscene/Monoscene/outputs/NYU1107_0000.pkl\n"
     ]
    },
    {
     "name": "stderr",
     "output_type": "stream",
     "text": [
      "\r",
      " 13%|█▎        | 28/218 [00:43<04:44,  1.50s/it]"
     ]
    },
    {
     "name": "stdout",
     "output_type": "stream",
     "text": [
      "wrote to /monoscene/Monoscene/outputs/NYU1278_0000.pkl\n"
     ]
    },
    {
     "name": "stderr",
     "output_type": "stream",
     "text": [
      "\r",
      " 13%|█▎        | 29/218 [00:44<04:45,  1.51s/it]"
     ]
    },
    {
     "name": "stdout",
     "output_type": "stream",
     "text": [
      "wrote to /monoscene/Monoscene/outputs/NYU1433_0000.pkl\n"
     ]
    },
    {
     "name": "stderr",
     "output_type": "stream",
     "text": [
      "\r",
      " 14%|█▍        | 30/218 [00:46<04:42,  1.50s/it]"
     ]
    },
    {
     "name": "stdout",
     "output_type": "stream",
     "text": [
      "wrote to /monoscene/Monoscene/outputs/NYU0907_0000.pkl\n"
     ]
    },
    {
     "name": "stderr",
     "output_type": "stream",
     "text": [
      "\r",
      " 14%|█▍        | 31/218 [00:47<04:37,  1.49s/it]"
     ]
    },
    {
     "name": "stdout",
     "output_type": "stream",
     "text": [
      "wrote to /monoscene/Monoscene/outputs/NYU1118_0000.pkl\n"
     ]
    },
    {
     "name": "stderr",
     "output_type": "stream",
     "text": [
      "\r",
      " 15%|█▍        | 32/218 [00:49<04:32,  1.46s/it]"
     ]
    },
    {
     "name": "stdout",
     "output_type": "stream",
     "text": [
      "wrote to /monoscene/Monoscene/outputs/NYU0171_0000.pkl\n"
     ]
    },
    {
     "name": "stderr",
     "output_type": "stream",
     "text": [
      "\r",
      " 15%|█▌        | 33/218 [00:50<04:32,  1.47s/it]"
     ]
    },
    {
     "name": "stdout",
     "output_type": "stream",
     "text": [
      "wrote to /monoscene/Monoscene/outputs/NYU0028_0000.pkl\n"
     ]
    },
    {
     "name": "stderr",
     "output_type": "stream",
     "text": [
      "\r",
      " 16%|█▌        | 34/218 [00:52<04:34,  1.49s/it]"
     ]
    },
    {
     "name": "stdout",
     "output_type": "stream",
     "text": [
      "wrote to /monoscene/Monoscene/outputs/NYU1125_0000.pkl\n"
     ]
    },
    {
     "name": "stderr",
     "output_type": "stream",
     "text": [
      "\r",
      " 16%|█▌        | 35/218 [00:53<04:31,  1.48s/it]"
     ]
    },
    {
     "name": "stdout",
     "output_type": "stream",
     "text": [
      "wrote to /monoscene/Monoscene/outputs/NYU0570_0000.pkl\n"
     ]
    },
    {
     "name": "stderr",
     "output_type": "stream",
     "text": [
      "\r",
      " 17%|█▋        | 36/218 [00:55<04:29,  1.48s/it]"
     ]
    },
    {
     "name": "stdout",
     "output_type": "stream",
     "text": [
      "wrote to /monoscene/Monoscene/outputs/NYU0563_0000.pkl\n"
     ]
    },
    {
     "name": "stderr",
     "output_type": "stream",
     "text": [
      "\r",
      " 17%|█▋        | 37/218 [00:56<04:30,  1.49s/it]"
     ]
    },
    {
     "name": "stdout",
     "output_type": "stream",
     "text": [
      "wrote to /monoscene/Monoscene/outputs/NYU1167_0000.pkl\n"
     ]
    },
    {
     "name": "stderr",
     "output_type": "stream",
     "text": [
      "\r",
      " 17%|█▋        | 38/218 [00:58<04:25,  1.48s/it]"
     ]
    },
    {
     "name": "stdout",
     "output_type": "stream",
     "text": [
      "wrote to /monoscene/Monoscene/outputs/NYU0386_0000.pkl\n"
     ]
    },
    {
     "name": "stderr",
     "output_type": "stream",
     "text": [
      "\r",
      " 18%|█▊        | 39/218 [00:59<04:29,  1.51s/it]"
     ]
    },
    {
     "name": "stdout",
     "output_type": "stream",
     "text": [
      "wrote to /monoscene/Monoscene/outputs/NYU0785_0000.pkl\n"
     ]
    },
    {
     "name": "stderr",
     "output_type": "stream",
     "text": [
      "\r",
      " 18%|█▊        | 40/218 [01:01<04:28,  1.51s/it]"
     ]
    },
    {
     "name": "stdout",
     "output_type": "stream",
     "text": [
      "wrote to /monoscene/Monoscene/outputs/NYU1390_0000.pkl\n"
     ]
    },
    {
     "name": "stderr",
     "output_type": "stream",
     "text": [
      "\r",
      " 19%|█▉        | 41/218 [01:02<04:24,  1.49s/it]"
     ]
    },
    {
     "name": "stdout",
     "output_type": "stream",
     "text": [
      "wrote to /monoscene/Monoscene/outputs/NYU0014_0000.pkl\n"
     ]
    },
    {
     "name": "stderr",
     "output_type": "stream",
     "text": [
      "\r",
      " 19%|█▉        | 42/218 [01:04<04:23,  1.50s/it]"
     ]
    },
    {
     "name": "stdout",
     "output_type": "stream",
     "text": [
      "wrote to /monoscene/Monoscene/outputs/NYU1423_0000.pkl\n"
     ]
    },
    {
     "name": "stderr",
     "output_type": "stream",
     "text": [
      "\r",
      " 20%|█▉        | 43/218 [01:05<04:24,  1.51s/it]"
     ]
    },
    {
     "name": "stdout",
     "output_type": "stream",
     "text": [
      "wrote to /monoscene/Monoscene/outputs/NYU1248_0000.pkl\n"
     ]
    },
    {
     "name": "stderr",
     "output_type": "stream",
     "text": [
      "\r",
      " 20%|██        | 44/218 [01:07<04:20,  1.50s/it]"
     ]
    },
    {
     "name": "stdout",
     "output_type": "stream",
     "text": [
      "wrote to /monoscene/Monoscene/outputs/NYU0802_0000.pkl\n"
     ]
    },
    {
     "name": "stderr",
     "output_type": "stream",
     "text": [
      "\r",
      " 21%|██        | 45/218 [01:08<04:19,  1.50s/it]"
     ]
    },
    {
     "name": "stdout",
     "output_type": "stream",
     "text": [
      "wrote to /monoscene/Monoscene/outputs/NYU1001_0000.pkl\n"
     ]
    },
    {
     "name": "stderr",
     "output_type": "stream",
     "text": [
      "\r",
      " 21%|██        | 46/218 [01:10<04:17,  1.50s/it]"
     ]
    },
    {
     "name": "stdout",
     "output_type": "stream",
     "text": [
      "wrote to /monoscene/Monoscene/outputs/NYU0474_0000.pkl\n"
     ]
    },
    {
     "name": "stderr",
     "output_type": "stream",
     "text": [
      "\r",
      " 22%|██▏       | 47/218 [01:11<04:16,  1.50s/it]"
     ]
    },
    {
     "name": "stdout",
     "output_type": "stream",
     "text": [
      "wrote to /monoscene/Monoscene/outputs/NYU0650_0000.pkl\n"
     ]
    },
    {
     "name": "stderr",
     "output_type": "stream",
     "text": [
      "\r",
      " 22%|██▏       | 48/218 [01:13<04:12,  1.48s/it]"
     ]
    },
    {
     "name": "stdout",
     "output_type": "stream",
     "text": [
      "wrote to /monoscene/Monoscene/outputs/NYU1003_0000.pkl\n"
     ]
    },
    {
     "name": "stderr",
     "output_type": "stream",
     "text": [
      "\r",
      " 22%|██▏       | 49/218 [01:14<04:10,  1.48s/it]"
     ]
    },
    {
     "name": "stdout",
     "output_type": "stream",
     "text": [
      "wrote to /monoscene/Monoscene/outputs/NYU1076_0000.pkl\n"
     ]
    },
    {
     "name": "stderr",
     "output_type": "stream",
     "text": [
      "\r",
      " 23%|██▎       | 50/218 [01:16<04:10,  1.49s/it]"
     ]
    },
    {
     "name": "stdout",
     "output_type": "stream",
     "text": [
      "wrote to /monoscene/Monoscene/outputs/NYU0282_0000.pkl\n"
     ]
    },
    {
     "name": "stderr",
     "output_type": "stream",
     "text": [
      "\r",
      " 23%|██▎       | 51/218 [01:17<04:08,  1.49s/it]"
     ]
    },
    {
     "name": "stdout",
     "output_type": "stream",
     "text": [
      "wrote to /monoscene/Monoscene/outputs/NYU0063_0000.pkl\n"
     ]
    },
    {
     "name": "stderr",
     "output_type": "stream",
     "text": [
      "\r",
      " 24%|██▍       | 52/218 [01:19<04:11,  1.51s/it]"
     ]
    },
    {
     "name": "stdout",
     "output_type": "stream",
     "text": [
      "wrote to /monoscene/Monoscene/outputs/NYU0727_0000.pkl\n"
     ]
    },
    {
     "name": "stderr",
     "output_type": "stream",
     "text": [
      "\r",
      " 24%|██▍       | 53/218 [01:20<04:10,  1.52s/it]"
     ]
    },
    {
     "name": "stdout",
     "output_type": "stream",
     "text": [
      "wrote to /monoscene/Monoscene/outputs/NYU0841_0000.pkl\n"
     ]
    },
    {
     "name": "stderr",
     "output_type": "stream",
     "text": [
      "\r",
      " 25%|██▍       | 54/218 [01:22<04:03,  1.48s/it]"
     ]
    },
    {
     "name": "stdout",
     "output_type": "stream",
     "text": [
      "wrote to /monoscene/Monoscene/outputs/NYU0128_0000.pkl\n"
     ]
    },
    {
     "name": "stderr",
     "output_type": "stream",
     "text": [
      "\r",
      " 25%|██▌       | 55/218 [01:23<03:58,  1.46s/it]"
     ]
    },
    {
     "name": "stdout",
     "output_type": "stream",
     "text": [
      "wrote to /monoscene/Monoscene/outputs/NYU1157_0000.pkl\n"
     ]
    },
    {
     "name": "stderr",
     "output_type": "stream",
     "text": [
      "\r",
      " 26%|██▌       | 56/218 [01:25<03:58,  1.47s/it]"
     ]
    },
    {
     "name": "stdout",
     "output_type": "stream",
     "text": [
      "wrote to /monoscene/Monoscene/outputs/NYU0932_0000.pkl\n"
     ]
    },
    {
     "name": "stderr",
     "output_type": "stream",
     "text": [
      "\r",
      " 26%|██▌       | 57/218 [01:26<03:58,  1.48s/it]"
     ]
    },
    {
     "name": "stdout",
     "output_type": "stream",
     "text": [
      "wrote to /monoscene/Monoscene/outputs/NYU1409_0000.pkl\n"
     ]
    },
    {
     "name": "stderr",
     "output_type": "stream",
     "text": [
      "\r",
      " 27%|██▋       | 58/218 [01:28<03:57,  1.49s/it]"
     ]
    },
    {
     "name": "stdout",
     "output_type": "stream",
     "text": [
      "wrote to /monoscene/Monoscene/outputs/NYU0174_0000.pkl\n"
     ]
    },
    {
     "name": "stderr",
     "output_type": "stream",
     "text": [
      "\r",
      " 27%|██▋       | 59/218 [01:29<03:58,  1.50s/it]"
     ]
    },
    {
     "name": "stdout",
     "output_type": "stream",
     "text": [
      "wrote to /monoscene/Monoscene/outputs/NYU0463_0000.pkl\n"
     ]
    },
    {
     "name": "stderr",
     "output_type": "stream",
     "text": [
      "\r",
      " 28%|██▊       | 60/218 [01:31<03:59,  1.51s/it]"
     ]
    },
    {
     "name": "stdout",
     "output_type": "stream",
     "text": [
      "wrote to /monoscene/Monoscene/outputs/NYU1227_0000.pkl\n"
     ]
    },
    {
     "name": "stderr",
     "output_type": "stream",
     "text": [
      "\r",
      " 28%|██▊       | 61/218 [01:32<03:53,  1.49s/it]"
     ]
    },
    {
     "name": "stdout",
     "output_type": "stream",
     "text": [
      "wrote to /monoscene/Monoscene/outputs/NYU1156_0000.pkl\n"
     ]
    },
    {
     "name": "stderr",
     "output_type": "stream",
     "text": [
      "\r",
      " 28%|██▊       | 62/218 [01:34<03:48,  1.46s/it]"
     ]
    },
    {
     "name": "stdout",
     "output_type": "stream",
     "text": [
      "wrote to /monoscene/Monoscene/outputs/NYU1058_0000.pkl\n"
     ]
    },
    {
     "name": "stderr",
     "output_type": "stream",
     "text": [
      "\r",
      " 29%|██▉       | 63/218 [01:35<03:48,  1.48s/it]"
     ]
    },
    {
     "name": "stdout",
     "output_type": "stream",
     "text": [
      "wrote to /monoscene/Monoscene/outputs/NYU1166_0000.pkl\n"
     ]
    },
    {
     "name": "stderr",
     "output_type": "stream",
     "text": [
      "\r",
      " 29%|██▉       | 64/218 [01:37<03:46,  1.47s/it]"
     ]
    },
    {
     "name": "stdout",
     "output_type": "stream",
     "text": [
      "wrote to /monoscene/Monoscene/outputs/NYU0621_0000.pkl\n"
     ]
    },
    {
     "name": "stderr",
     "output_type": "stream",
     "text": [
      "\r",
      " 30%|██▉       | 65/218 [01:38<03:44,  1.46s/it]"
     ]
    },
    {
     "name": "stdout",
     "output_type": "stream",
     "text": [
      "wrote to /monoscene/Monoscene/outputs/NYU0433_0000.pkl\n"
     ]
    },
    {
     "name": "stderr",
     "output_type": "stream",
     "text": [
      "\r",
      " 30%|███       | 66/218 [01:39<03:41,  1.46s/it]"
     ]
    },
    {
     "name": "stdout",
     "output_type": "stream",
     "text": [
      "wrote to /monoscene/Monoscene/outputs/NYU1135_0000.pkl\n"
     ]
    },
    {
     "name": "stderr",
     "output_type": "stream",
     "text": [
      "\r",
      " 31%|███       | 67/218 [01:41<03:40,  1.46s/it]"
     ]
    },
    {
     "name": "stdout",
     "output_type": "stream",
     "text": [
      "wrote to /monoscene/Monoscene/outputs/NYU0565_0000.pkl\n"
     ]
    },
    {
     "name": "stderr",
     "output_type": "stream",
     "text": [
      "\r",
      " 31%|███       | 68/218 [01:42<03:40,  1.47s/it]"
     ]
    },
    {
     "name": "stdout",
     "output_type": "stream",
     "text": [
      "wrote to /monoscene/Monoscene/outputs/NYU1365_0000.pkl\n"
     ]
    },
    {
     "name": "stderr",
     "output_type": "stream",
     "text": [
      "\r",
      " 32%|███▏      | 69/218 [01:44<03:46,  1.52s/it]"
     ]
    },
    {
     "name": "stdout",
     "output_type": "stream",
     "text": [
      "wrote to /monoscene/Monoscene/outputs/NYU1206_0000.pkl\n"
     ]
    },
    {
     "name": "stderr",
     "output_type": "stream",
     "text": [
      "\r",
      " 32%|███▏      | 70/218 [01:46<03:46,  1.53s/it]"
     ]
    },
    {
     "name": "stdout",
     "output_type": "stream",
     "text": [
      "wrote to /monoscene/Monoscene/outputs/NYU0579_0000.pkl\n"
     ]
    },
    {
     "name": "stderr",
     "output_type": "stream",
     "text": [
      "\r",
      " 33%|███▎      | 71/218 [01:47<03:44,  1.52s/it]"
     ]
    },
    {
     "name": "stdout",
     "output_type": "stream",
     "text": [
      "wrote to /monoscene/Monoscene/outputs/NYU0187_0000.pkl\n"
     ]
    },
    {
     "name": "stderr",
     "output_type": "stream",
     "text": [
      "\r",
      " 33%|███▎      | 72/218 [01:49<03:41,  1.52s/it]"
     ]
    },
    {
     "name": "stdout",
     "output_type": "stream",
     "text": [
      "wrote to /monoscene/Monoscene/outputs/NYU0786_0000.pkl\n"
     ]
    },
    {
     "name": "stderr",
     "output_type": "stream",
     "text": [
      "\r",
      " 33%|███▎      | 73/218 [01:50<03:39,  1.51s/it]"
     ]
    },
    {
     "name": "stdout",
     "output_type": "stream",
     "text": [
      "wrote to /monoscene/Monoscene/outputs/NYU0551_0000.pkl\n"
     ]
    },
    {
     "name": "stderr",
     "output_type": "stream",
     "text": [
      "\r",
      " 34%|███▍      | 74/218 [01:52<03:41,  1.54s/it]"
     ]
    },
    {
     "name": "stdout",
     "output_type": "stream",
     "text": [
      "wrote to /monoscene/Monoscene/outputs/NYU0861_0000.pkl\n"
     ]
    },
    {
     "name": "stderr",
     "output_type": "stream",
     "text": [
      "\r",
      " 34%|███▍      | 75/218 [01:53<03:43,  1.56s/it]"
     ]
    },
    {
     "name": "stdout",
     "output_type": "stream",
     "text": [
      "wrote to /monoscene/Monoscene/outputs/NYU1410_0000.pkl\n"
     ]
    },
    {
     "name": "stderr",
     "output_type": "stream",
     "text": [
      "\r",
      " 35%|███▍      | 76/218 [01:55<03:40,  1.55s/it]"
     ]
    },
    {
     "name": "stdout",
     "output_type": "stream",
     "text": [
      "wrote to /monoscene/Monoscene/outputs/NYU1170_0000.pkl\n"
     ]
    },
    {
     "name": "stderr",
     "output_type": "stream",
     "text": [
      "\r",
      " 35%|███▌      | 77/218 [01:56<03:39,  1.56s/it]"
     ]
    },
    {
     "name": "stdout",
     "output_type": "stream",
     "text": [
      "wrote to /monoscene/Monoscene/outputs/NYU1421_0000.pkl\n"
     ]
    },
    {
     "name": "stderr",
     "output_type": "stream",
     "text": [
      "\r",
      " 36%|███▌      | 78/218 [01:58<03:42,  1.59s/it]"
     ]
    },
    {
     "name": "stdout",
     "output_type": "stream",
     "text": [
      "wrote to /monoscene/Monoscene/outputs/NYU0638_0000.pkl\n"
     ]
    },
    {
     "name": "stderr",
     "output_type": "stream",
     "text": [
      "\r",
      " 36%|███▌      | 79/218 [02:00<03:39,  1.58s/it]"
     ]
    },
    {
     "name": "stdout",
     "output_type": "stream",
     "text": [
      "wrote to /monoscene/Monoscene/outputs/NYU0182_0000.pkl\n"
     ]
    },
    {
     "name": "stderr",
     "output_type": "stream",
     "text": [
      "\r",
      " 37%|███▋      | 80/218 [02:01<03:36,  1.57s/it]"
     ]
    },
    {
     "name": "stdout",
     "output_type": "stream",
     "text": [
      "wrote to /monoscene/Monoscene/outputs/NYU0607_0000.pkl\n"
     ]
    },
    {
     "name": "stderr",
     "output_type": "stream",
     "text": [
      "\r",
      " 37%|███▋      | 81/218 [02:03<03:35,  1.57s/it]"
     ]
    },
    {
     "name": "stdout",
     "output_type": "stream",
     "text": [
      "wrote to /monoscene/Monoscene/outputs/NYU1247_0000.pkl\n"
     ]
    },
    {
     "name": "stderr",
     "output_type": "stream",
     "text": [
      "\r",
      " 38%|███▊      | 82/218 [02:04<03:28,  1.53s/it]"
     ]
    },
    {
     "name": "stdout",
     "output_type": "stream",
     "text": [
      "wrote to /monoscene/Monoscene/outputs/NYU1089_0000.pkl\n"
     ]
    },
    {
     "name": "stderr",
     "output_type": "stream",
     "text": [
      "\r",
      " 38%|███▊      | 83/218 [02:06<03:26,  1.53s/it]"
     ]
    },
    {
     "name": "stdout",
     "output_type": "stream",
     "text": [
      "wrote to /monoscene/Monoscene/outputs/NYU0784_0000.pkl\n"
     ]
    },
    {
     "name": "stderr",
     "output_type": "stream",
     "text": [
      "\r",
      " 39%|███▊      | 84/218 [02:07<03:22,  1.51s/it]"
     ]
    },
    {
     "name": "stdout",
     "output_type": "stream",
     "text": [
      "wrote to /monoscene/Monoscene/outputs/NYU0617_0000.pkl\n"
     ]
    },
    {
     "name": "stderr",
     "output_type": "stream",
     "text": [
      "\r",
      " 39%|███▉      | 85/218 [02:09<03:23,  1.53s/it]"
     ]
    },
    {
     "name": "stdout",
     "output_type": "stream",
     "text": [
      "wrote to /monoscene/Monoscene/outputs/NYU0387_0000.pkl\n"
     ]
    },
    {
     "name": "stderr",
     "output_type": "stream",
     "text": [
      "\r",
      " 39%|███▉      | 86/218 [02:10<03:20,  1.52s/it]"
     ]
    },
    {
     "name": "stdout",
     "output_type": "stream",
     "text": [
      "wrote to /monoscene/Monoscene/outputs/NYU0030_0000.pkl\n"
     ]
    },
    {
     "name": "stderr",
     "output_type": "stream",
     "text": [
      "\r",
      " 40%|███▉      | 87/218 [02:12<03:15,  1.50s/it]"
     ]
    },
    {
     "name": "stdout",
     "output_type": "stream",
     "text": [
      "wrote to /monoscene/Monoscene/outputs/NYU0043_0000.pkl\n"
     ]
    },
    {
     "name": "stderr",
     "output_type": "stream",
     "text": [
      "\r",
      " 40%|████      | 88/218 [02:13<03:14,  1.49s/it]"
     ]
    },
    {
     "name": "stdout",
     "output_type": "stream",
     "text": [
      "wrote to /monoscene/Monoscene/outputs/NYU0664_0000.pkl\n"
     ]
    },
    {
     "name": "stderr",
     "output_type": "stream",
     "text": [
      "\r",
      " 41%|████      | 89/218 [02:15<03:12,  1.49s/it]"
     ]
    },
    {
     "name": "stdout",
     "output_type": "stream",
     "text": [
      "wrote to /monoscene/Monoscene/outputs/NYU1339_0000.pkl\n"
     ]
    },
    {
     "name": "stderr",
     "output_type": "stream",
     "text": [
      "\r",
      " 41%|████▏     | 90/218 [02:16<03:07,  1.46s/it]"
     ]
    },
    {
     "name": "stdout",
     "output_type": "stream",
     "text": [
      "wrote to /monoscene/Monoscene/outputs/NYU0992_0000.pkl\n"
     ]
    },
    {
     "name": "stderr",
     "output_type": "stream",
     "text": [
      "\r",
      " 42%|████▏     | 91/218 [02:17<03:05,  1.46s/it]"
     ]
    },
    {
     "name": "stdout",
     "output_type": "stream",
     "text": [
      "wrote to /monoscene/Monoscene/outputs/NYU1218_0000.pkl\n"
     ]
    },
    {
     "name": "stderr",
     "output_type": "stream",
     "text": [
      "\r",
      " 42%|████▏     | 92/218 [02:19<03:07,  1.49s/it]"
     ]
    },
    {
     "name": "stdout",
     "output_type": "stream",
     "text": [
      "wrote to /monoscene/Monoscene/outputs/NYU0860_0000.pkl\n"
     ]
    },
    {
     "name": "stderr",
     "output_type": "stream",
     "text": [
      "\r",
      " 43%|████▎     | 93/218 [02:21<03:06,  1.49s/it]"
     ]
    },
    {
     "name": "stdout",
     "output_type": "stream",
     "text": [
      "wrote to /monoscene/Monoscene/outputs/NYU0959_0000.pkl\n"
     ]
    },
    {
     "name": "stderr",
     "output_type": "stream",
     "text": [
      "\r",
      " 43%|████▎     | 94/218 [02:22<03:04,  1.49s/it]"
     ]
    },
    {
     "name": "stdout",
     "output_type": "stream",
     "text": [
      "wrote to /monoscene/Monoscene/outputs/NYU0779_0000.pkl\n"
     ]
    },
    {
     "name": "stderr",
     "output_type": "stream",
     "text": [
      "\r",
      " 44%|████▎     | 95/218 [02:24<03:04,  1.50s/it]"
     ]
    },
    {
     "name": "stdout",
     "output_type": "stream",
     "text": [
      "wrote to /monoscene/Monoscene/outputs/NYU1348_0000.pkl\n"
     ]
    },
    {
     "name": "stderr",
     "output_type": "stream",
     "text": [
      "\r",
      " 44%|████▍     | 96/218 [02:25<03:02,  1.49s/it]"
     ]
    },
    {
     "name": "stdout",
     "output_type": "stream",
     "text": [
      "wrote to /monoscene/Monoscene/outputs/NYU0733_0000.pkl\n"
     ]
    },
    {
     "name": "stderr",
     "output_type": "stream",
     "text": [
      "\r",
      " 44%|████▍     | 97/218 [02:27<03:00,  1.49s/it]"
     ]
    },
    {
     "name": "stdout",
     "output_type": "stream",
     "text": [
      "wrote to /monoscene/Monoscene/outputs/NYU0119_0000.pkl\n"
     ]
    },
    {
     "name": "stderr",
     "output_type": "stream",
     "text": [
      "\r",
      " 45%|████▍     | 98/218 [02:28<02:58,  1.48s/it]"
     ]
    },
    {
     "name": "stdout",
     "output_type": "stream",
     "text": [
      "wrote to /monoscene/Monoscene/outputs/NYU0670_0000.pkl\n"
     ]
    },
    {
     "name": "stderr",
     "output_type": "stream",
     "text": [
      "\r",
      " 45%|████▌     | 99/218 [02:30<02:58,  1.50s/it]"
     ]
    },
    {
     "name": "stdout",
     "output_type": "stream",
     "text": [
      "wrote to /monoscene/Monoscene/outputs/NYU1032_0000.pkl\n"
     ]
    },
    {
     "name": "stderr",
     "output_type": "stream",
     "text": [
      "\r",
      " 46%|████▌     | 100/218 [02:31<02:56,  1.50s/it]"
     ]
    },
    {
     "name": "stdout",
     "output_type": "stream",
     "text": [
      "wrote to /monoscene/Monoscene/outputs/NYU0549_0000.pkl\n"
     ]
    },
    {
     "name": "stderr",
     "output_type": "stream",
     "text": [
      "\r",
      " 46%|████▋     | 101/218 [02:32<02:54,  1.49s/it]"
     ]
    },
    {
     "name": "stdout",
     "output_type": "stream",
     "text": [
      "wrote to /monoscene/Monoscene/outputs/NYU1183_0000.pkl\n"
     ]
    },
    {
     "name": "stderr",
     "output_type": "stream",
     "text": [
      "\r",
      " 47%|████▋     | 102/218 [02:34<02:51,  1.48s/it]"
     ]
    },
    {
     "name": "stdout",
     "output_type": "stream",
     "text": [
      "wrote to /monoscene/Monoscene/outputs/NYU1297_0000.pkl\n"
     ]
    },
    {
     "name": "stderr",
     "output_type": "stream",
     "text": [
      "\r",
      " 47%|████▋     | 103/218 [02:35<02:49,  1.47s/it]"
     ]
    },
    {
     "name": "stdout",
     "output_type": "stream",
     "text": [
      "wrote to /monoscene/Monoscene/outputs/NYU0131_0000.pkl\n"
     ]
    },
    {
     "name": "stderr",
     "output_type": "stream",
     "text": [
      "\r",
      " 48%|████▊     | 104/218 [02:37<02:49,  1.49s/it]"
     ]
    },
    {
     "name": "stdout",
     "output_type": "stream",
     "text": [
      "wrote to /monoscene/Monoscene/outputs/NYU0285_0000.pkl\n"
     ]
    },
    {
     "name": "stderr",
     "output_type": "stream",
     "text": [
      "\r",
      " 48%|████▊     | 105/218 [02:38<02:48,  1.49s/it]"
     ]
    },
    {
     "name": "stdout",
     "output_type": "stream",
     "text": [
      "wrote to /monoscene/Monoscene/outputs/NYU1095_0000.pkl\n"
     ]
    },
    {
     "name": "stderr",
     "output_type": "stream",
     "text": [
      "\r",
      " 49%|████▊     | 106/218 [02:40<02:46,  1.48s/it]"
     ]
    },
    {
     "name": "stdout",
     "output_type": "stream",
     "text": [
      "wrote to /monoscene/Monoscene/outputs/NYU1314_0000.pkl\n"
     ]
    },
    {
     "name": "stderr",
     "output_type": "stream",
     "text": [
      "\r",
      " 49%|████▉     | 107/218 [02:41<02:44,  1.48s/it]"
     ]
    },
    {
     "name": "stdout",
     "output_type": "stream",
     "text": [
      "wrote to /monoscene/Monoscene/outputs/NYU1307_0000.pkl\n"
     ]
    },
    {
     "name": "stderr",
     "output_type": "stream",
     "text": [
      "\r",
      " 50%|████▉     | 108/218 [02:43<02:42,  1.48s/it]"
     ]
    },
    {
     "name": "stdout",
     "output_type": "stream",
     "text": [
      "wrote to /monoscene/Monoscene/outputs/NYU0852_0000.pkl\n"
     ]
    },
    {
     "name": "stderr",
     "output_type": "stream",
     "text": [
      "\r",
      " 50%|█████     | 109/218 [02:44<02:44,  1.51s/it]"
     ]
    },
    {
     "name": "stdout",
     "output_type": "stream",
     "text": [
      "wrote to /monoscene/Monoscene/outputs/NYU1441_0000.pkl\n"
     ]
    },
    {
     "name": "stderr",
     "output_type": "stream",
     "text": [
      "\r",
      " 50%|█████     | 110/218 [02:46<02:41,  1.50s/it]"
     ]
    },
    {
     "name": "stdout",
     "output_type": "stream",
     "text": [
      "wrote to /monoscene/Monoscene/outputs/NYU0769_0000.pkl\n"
     ]
    },
    {
     "name": "stderr",
     "output_type": "stream",
     "text": [
      "\r",
      " 51%|█████     | 111/218 [02:47<02:39,  1.49s/it]"
     ]
    },
    {
     "name": "stdout",
     "output_type": "stream",
     "text": [
      "wrote to /monoscene/Monoscene/outputs/NYU1291_0000.pkl\n"
     ]
    },
    {
     "name": "stderr",
     "output_type": "stream",
     "text": [
      "\r",
      " 51%|█████▏    | 112/218 [02:49<02:39,  1.50s/it]"
     ]
    },
    {
     "name": "stdout",
     "output_type": "stream",
     "text": [
      "wrote to /monoscene/Monoscene/outputs/NYU1136_0000.pkl\n"
     ]
    },
    {
     "name": "stderr",
     "output_type": "stream",
     "text": [
      "\r",
      " 52%|█████▏    | 113/218 [02:50<02:37,  1.50s/it]"
     ]
    },
    {
     "name": "stdout",
     "output_type": "stream",
     "text": [
      "wrote to /monoscene/Monoscene/outputs/NYU0568_0000.pkl\n"
     ]
    },
    {
     "name": "stderr",
     "output_type": "stream",
     "text": [
      "\r",
      " 52%|█████▏    | 114/218 [02:52<02:34,  1.49s/it]"
     ]
    },
    {
     "name": "stdout",
     "output_type": "stream",
     "text": [
      "wrote to /monoscene/Monoscene/outputs/NYU1233_0000.pkl\n"
     ]
    },
    {
     "name": "stderr",
     "output_type": "stream",
     "text": [
      "\r",
      " 53%|█████▎    | 115/218 [02:53<02:33,  1.49s/it]"
     ]
    },
    {
     "name": "stdout",
     "output_type": "stream",
     "text": [
      "wrote to /monoscene/Monoscene/outputs/NYU0744_0000.pkl\n"
     ]
    },
    {
     "name": "stderr",
     "output_type": "stream",
     "text": [
      "\r",
      " 53%|█████▎    | 116/218 [02:55<02:32,  1.50s/it]"
     ]
    },
    {
     "name": "stdout",
     "output_type": "stream",
     "text": [
      "wrote to /monoscene/Monoscene/outputs/NYU0186_0000.pkl\n"
     ]
    },
    {
     "name": "stderr",
     "output_type": "stream",
     "text": [
      "\r",
      " 54%|█████▎    | 117/218 [02:56<02:33,  1.52s/it]"
     ]
    },
    {
     "name": "stdout",
     "output_type": "stream",
     "text": [
      "wrote to /monoscene/Monoscene/outputs/NYU1424_0000.pkl\n"
     ]
    },
    {
     "name": "stderr",
     "output_type": "stream",
     "text": [
      "\r",
      " 54%|█████▍    | 118/218 [02:58<02:33,  1.54s/it]"
     ]
    },
    {
     "name": "stdout",
     "output_type": "stream",
     "text": [
      "wrote to /monoscene/Monoscene/outputs/NYU0618_0000.pkl\n"
     ]
    },
    {
     "name": "stderr",
     "output_type": "stream",
     "text": [
      "\r",
      " 55%|█████▍    | 119/218 [03:00<02:34,  1.56s/it]"
     ]
    },
    {
     "name": "stdout",
     "output_type": "stream",
     "text": [
      "wrote to /monoscene/Monoscene/outputs/NYU0977_0000.pkl\n"
     ]
    },
    {
     "name": "stderr",
     "output_type": "stream",
     "text": [
      "\r",
      " 55%|█████▌    | 120/218 [03:01<02:33,  1.57s/it]"
     ]
    },
    {
     "name": "stdout",
     "output_type": "stream",
     "text": [
      "wrote to /monoscene/Monoscene/outputs/NYU0558_0000.pkl\n"
     ]
    },
    {
     "name": "stderr",
     "output_type": "stream",
     "text": [
      "\r",
      " 56%|█████▌    | 121/218 [03:03<02:31,  1.57s/it]"
     ]
    },
    {
     "name": "stdout",
     "output_type": "stream",
     "text": [
      "wrote to /monoscene/Monoscene/outputs/NYU0871_0000.pkl\n"
     ]
    },
    {
     "name": "stderr",
     "output_type": "stream",
     "text": [
      "\r",
      " 56%|█████▌    | 122/218 [03:04<02:30,  1.57s/it]"
     ]
    },
    {
     "name": "stdout",
     "output_type": "stream",
     "text": [
      "wrote to /monoscene/Monoscene/outputs/NYU0299_0000.pkl\n"
     ]
    },
    {
     "name": "stderr",
     "output_type": "stream",
     "text": [
      "\r",
      " 56%|█████▋    | 123/218 [03:06<02:30,  1.58s/it]"
     ]
    },
    {
     "name": "stdout",
     "output_type": "stream",
     "text": [
      "wrote to /monoscene/Monoscene/outputs/NYU0857_0000.pkl\n"
     ]
    },
    {
     "name": "stderr",
     "output_type": "stream",
     "text": [
      "\r",
      " 57%|█████▋    | 124/218 [03:08<02:28,  1.58s/it]"
     ]
    },
    {
     "name": "stdout",
     "output_type": "stream",
     "text": [
      "wrote to /monoscene/Monoscene/outputs/NYU1096_0000.pkl\n"
     ]
    },
    {
     "name": "stderr",
     "output_type": "stream",
     "text": [
      "\r",
      " 57%|█████▋    | 125/218 [03:09<02:26,  1.58s/it]"
     ]
    },
    {
     "name": "stdout",
     "output_type": "stream",
     "text": [
      "wrote to /monoscene/Monoscene/outputs/NYU0933_0000.pkl\n"
     ]
    },
    {
     "name": "stderr",
     "output_type": "stream",
     "text": [
      "\r",
      " 58%|█████▊    | 126/218 [03:11<02:23,  1.56s/it]"
     ]
    },
    {
     "name": "stdout",
     "output_type": "stream",
     "text": [
      "wrote to /monoscene/Monoscene/outputs/NYU1445_0000.pkl\n"
     ]
    },
    {
     "name": "stderr",
     "output_type": "stream",
     "text": [
      "\r",
      " 58%|█████▊    | 127/218 [03:12<02:20,  1.54s/it]"
     ]
    },
    {
     "name": "stdout",
     "output_type": "stream",
     "text": [
      "wrote to /monoscene/Monoscene/outputs/NYU1355_0000.pkl\n"
     ]
    },
    {
     "name": "stderr",
     "output_type": "stream",
     "text": [
      "\r",
      " 59%|█████▊    | 128/218 [03:14<02:18,  1.54s/it]"
     ]
    },
    {
     "name": "stdout",
     "output_type": "stream",
     "text": [
      "wrote to /monoscene/Monoscene/outputs/NYU0801_0000.pkl\n"
     ]
    },
    {
     "name": "stderr",
     "output_type": "stream",
     "text": [
      "\r",
      " 59%|█████▉    | 129/218 [03:15<02:17,  1.54s/it]"
     ]
    },
    {
     "name": "stdout",
     "output_type": "stream",
     "text": [
      "wrote to /monoscene/Monoscene/outputs/NYU1387_0000.pkl\n"
     ]
    },
    {
     "name": "stderr",
     "output_type": "stream",
     "text": [
      "\r",
      " 60%|█████▉    | 130/218 [03:17<02:14,  1.53s/it]"
     ]
    },
    {
     "name": "stdout",
     "output_type": "stream",
     "text": [
      "wrote to /monoscene/Monoscene/outputs/NYU1331_0000.pkl\n"
     ]
    },
    {
     "name": "stderr",
     "output_type": "stream",
     "text": [
      "\r",
      " 60%|██████    | 131/218 [03:18<02:14,  1.55s/it]"
     ]
    },
    {
     "name": "stdout",
     "output_type": "stream",
     "text": [
      "wrote to /monoscene/Monoscene/outputs/NYU1337_0000.pkl\n"
     ]
    },
    {
     "name": "stderr",
     "output_type": "stream",
     "text": [
      "\r",
      " 61%|██████    | 132/218 [03:20<02:14,  1.56s/it]"
     ]
    },
    {
     "name": "stdout",
     "output_type": "stream",
     "text": [
      "wrote to /monoscene/Monoscene/outputs/NYU0906_0000.pkl\n"
     ]
    },
    {
     "name": "stderr",
     "output_type": "stream",
     "text": [
      "\r",
      " 61%|██████    | 133/218 [03:21<02:11,  1.55s/it]"
     ]
    },
    {
     "name": "stdout",
     "output_type": "stream",
     "text": [
      "wrote to /monoscene/Monoscene/outputs/NYU0726_0000.pkl\n"
     ]
    },
    {
     "name": "stderr",
     "output_type": "stream",
     "text": [
      "\r",
      " 61%|██████▏   | 134/218 [03:23<02:09,  1.54s/it]"
     ]
    },
    {
     "name": "stdout",
     "output_type": "stream",
     "text": [
      "wrote to /monoscene/Monoscene/outputs/NYU0476_0000.pkl\n"
     ]
    },
    {
     "name": "stderr",
     "output_type": "stream",
     "text": [
      "\r",
      " 62%|██████▏   | 135/218 [03:24<02:08,  1.54s/it]"
     ]
    },
    {
     "name": "stdout",
     "output_type": "stream",
     "text": [
      "wrote to /monoscene/Monoscene/outputs/NYU0569_0000.pkl\n"
     ]
    },
    {
     "name": "stderr",
     "output_type": "stream",
     "text": [
      "\r",
      " 62%|██████▏   | 136/218 [03:26<02:07,  1.55s/it]"
     ]
    },
    {
     "name": "stdout",
     "output_type": "stream",
     "text": [
      "wrote to /monoscene/Monoscene/outputs/NYU1147_0000.pkl\n"
     ]
    },
    {
     "name": "stderr",
     "output_type": "stream",
     "text": [
      "\r",
      " 63%|██████▎   | 137/218 [03:28<02:06,  1.56s/it]"
     ]
    },
    {
     "name": "stdout",
     "output_type": "stream",
     "text": [
      "wrote to /monoscene/Monoscene/outputs/NYU0031_0000.pkl\n"
     ]
    },
    {
     "name": "stderr",
     "output_type": "stream",
     "text": [
      "\r",
      " 63%|██████▎   | 138/218 [03:29<02:05,  1.57s/it]"
     ]
    },
    {
     "name": "stdout",
     "output_type": "stream",
     "text": [
      "wrote to /monoscene/Monoscene/outputs/NYU0606_0000.pkl\n"
     ]
    },
    {
     "name": "stderr",
     "output_type": "stream",
     "text": [
      "\r",
      " 64%|██████▍   | 139/218 [03:31<02:03,  1.56s/it]"
     ]
    },
    {
     "name": "stdout",
     "output_type": "stream",
     "text": [
      "wrote to /monoscene/Monoscene/outputs/NYU0462_0000.pkl\n"
     ]
    },
    {
     "name": "stderr",
     "output_type": "stream",
     "text": [
      "\r",
      " 64%|██████▍   | 140/218 [03:32<02:01,  1.56s/it]"
     ]
    },
    {
     "name": "stdout",
     "output_type": "stream",
     "text": [
      "wrote to /monoscene/Monoscene/outputs/NYU1332_0000.pkl\n"
     ]
    },
    {
     "name": "stderr",
     "output_type": "stream",
     "text": [
      "\r",
      " 65%|██████▍   | 141/218 [03:34<01:59,  1.55s/it]"
     ]
    },
    {
     "name": "stdout",
     "output_type": "stream",
     "text": [
      "wrote to /monoscene/Monoscene/outputs/NYU1280_0000.pkl\n"
     ]
    },
    {
     "name": "stderr",
     "output_type": "stream",
     "text": [
      "\r",
      " 65%|██████▌   | 142/218 [03:35<01:57,  1.55s/it]"
     ]
    },
    {
     "name": "stdout",
     "output_type": "stream",
     "text": [
      "wrote to /monoscene/Monoscene/outputs/NYU0635_0000.pkl\n"
     ]
    },
    {
     "name": "stderr",
     "output_type": "stream",
     "text": [
      "\r",
      " 66%|██████▌   | 143/218 [03:37<01:54,  1.53s/it]"
     ]
    },
    {
     "name": "stdout",
     "output_type": "stream",
     "text": [
      "wrote to /monoscene/Monoscene/outputs/NYU0079_0000.pkl\n"
     ]
    },
    {
     "name": "stderr",
     "output_type": "stream",
     "text": [
      "\r",
      " 66%|██████▌   | 144/218 [03:38<01:51,  1.51s/it]"
     ]
    },
    {
     "name": "stdout",
     "output_type": "stream",
     "text": [
      "wrote to /monoscene/Monoscene/outputs/NYU0389_0000.pkl\n"
     ]
    },
    {
     "name": "stderr",
     "output_type": "stream",
     "text": [
      "\r",
      " 67%|██████▋   | 145/218 [03:40<01:52,  1.54s/it]"
     ]
    },
    {
     "name": "stdout",
     "output_type": "stream",
     "text": [
      "wrote to /monoscene/Monoscene/outputs/NYU0355_0000.pkl\n"
     ]
    },
    {
     "name": "stderr",
     "output_type": "stream",
     "text": [
      "\r",
      " 67%|██████▋   | 146/218 [03:41<01:50,  1.53s/it]"
     ]
    },
    {
     "name": "stdout",
     "output_type": "stream",
     "text": [
      "wrote to /monoscene/Monoscene/outputs/NYU1262_0000.pkl\n"
     ]
    },
    {
     "name": "stderr",
     "output_type": "stream",
     "text": [
      "\r",
      " 67%|██████▋   | 147/218 [03:43<01:47,  1.51s/it]"
     ]
    },
    {
     "name": "stdout",
     "output_type": "stream",
     "text": [
      "wrote to /monoscene/Monoscene/outputs/NYU0651_0000.pkl\n"
     ]
    },
    {
     "name": "stderr",
     "output_type": "stream",
     "text": [
      "\r",
      " 68%|██████▊   | 148/218 [03:45<01:47,  1.54s/it]"
     ]
    },
    {
     "name": "stdout",
     "output_type": "stream",
     "text": [
      "wrote to /monoscene/Monoscene/outputs/NYU0310_0000.pkl\n"
     ]
    },
    {
     "name": "stderr",
     "output_type": "stream",
     "text": [
      "\r",
      " 68%|██████▊   | 149/218 [03:46<01:46,  1.54s/it]"
     ]
    },
    {
     "name": "stdout",
     "output_type": "stream",
     "text": [
      "wrote to /monoscene/Monoscene/outputs/NYU0184_0000.pkl\n"
     ]
    },
    {
     "name": "stderr",
     "output_type": "stream",
     "text": [
      "\r",
      " 69%|██████▉   | 150/218 [03:48<01:43,  1.52s/it]"
     ]
    },
    {
     "name": "stdout",
     "output_type": "stream",
     "text": [
      "wrote to /monoscene/Monoscene/outputs/NYU0539_0000.pkl\n"
     ]
    },
    {
     "name": "stderr",
     "output_type": "stream",
     "text": [
      "\r",
      " 69%|██████▉   | 151/218 [03:49<01:44,  1.55s/it]"
     ]
    },
    {
     "name": "stdout",
     "output_type": "stream",
     "text": [
      "wrote to /monoscene/Monoscene/outputs/NYU1386_0000.pkl\n"
     ]
    },
    {
     "name": "stderr",
     "output_type": "stream",
     "text": [
      "\r",
      " 70%|██████▉   | 152/218 [03:51<01:43,  1.56s/it]"
     ]
    },
    {
     "name": "stdout",
     "output_type": "stream",
     "text": [
      "wrote to /monoscene/Monoscene/outputs/NYU0077_0000.pkl\n"
     ]
    },
    {
     "name": "stderr",
     "output_type": "stream",
     "text": [
      "\r",
      " 70%|███████   | 153/218 [03:52<01:39,  1.53s/it]"
     ]
    },
    {
     "name": "stdout",
     "output_type": "stream",
     "text": [
      "wrote to /monoscene/Monoscene/outputs/NYU0561_0000.pkl\n"
     ]
    },
    {
     "name": "stderr",
     "output_type": "stream",
     "text": [
      "\r",
      " 71%|███████   | 154/218 [03:54<01:38,  1.53s/it]"
     ]
    },
    {
     "name": "stdout",
     "output_type": "stream",
     "text": [
      "wrote to /monoscene/Monoscene/outputs/NYU0272_0000.pkl\n"
     ]
    },
    {
     "name": "stderr",
     "output_type": "stream",
     "text": [
      "\r",
      " 71%|███████   | 155/218 [03:55<01:37,  1.54s/it]"
     ]
    },
    {
     "name": "stdout",
     "output_type": "stream",
     "text": [
      "wrote to /monoscene/Monoscene/outputs/NYU1205_0000.pkl\n"
     ]
    },
    {
     "name": "stderr",
     "output_type": "stream",
     "text": [
      "\r",
      " 72%|███████▏  | 156/218 [03:57<01:38,  1.58s/it]"
     ]
    },
    {
     "name": "stdout",
     "output_type": "stream",
     "text": [
      "wrote to /monoscene/Monoscene/outputs/NYU0195_0000.pkl\n"
     ]
    },
    {
     "name": "stderr",
     "output_type": "stream",
     "text": [
      "\r",
      " 72%|███████▏  | 157/218 [03:59<01:37,  1.60s/it]"
     ]
    },
    {
     "name": "stdout",
     "output_type": "stream",
     "text": [
      "wrote to /monoscene/Monoscene/outputs/NYU0780_0000.pkl\n"
     ]
    },
    {
     "name": "stderr",
     "output_type": "stream",
     "text": [
      "\r",
      " 72%|███████▏  | 158/218 [04:00<01:35,  1.60s/it]"
     ]
    },
    {
     "name": "stdout",
     "output_type": "stream",
     "text": [
      "wrote to /monoscene/Monoscene/outputs/NYU0673_0000.pkl\n"
     ]
    },
    {
     "name": "stderr",
     "output_type": "stream",
     "text": [
      "\r",
      " 73%|███████▎  | 159/218 [04:02<01:34,  1.59s/it]"
     ]
    },
    {
     "name": "stdout",
     "output_type": "stream",
     "text": [
      "wrote to /monoscene/Monoscene/outputs/NYU1123_0000.pkl\n"
     ]
    },
    {
     "name": "stderr",
     "output_type": "stream",
     "text": [
      "\r",
      " 73%|███████▎  | 160/218 [04:03<01:30,  1.55s/it]"
     ]
    },
    {
     "name": "stdout",
     "output_type": "stream",
     "text": [
      "wrote to /monoscene/Monoscene/outputs/NYU0168_0000.pkl\n"
     ]
    },
    {
     "name": "stderr",
     "output_type": "stream",
     "text": [
      "\r",
      " 74%|███████▍  | 161/218 [04:05<01:27,  1.53s/it]"
     ]
    },
    {
     "name": "stdout",
     "output_type": "stream",
     "text": [
      "wrote to /monoscene/Monoscene/outputs/NYU0724_0000.pkl\n"
     ]
    },
    {
     "name": "stderr",
     "output_type": "stream",
     "text": [
      "\r",
      " 74%|███████▍  | 162/218 [04:06<01:25,  1.53s/it]"
     ]
    },
    {
     "name": "stdout",
     "output_type": "stream",
     "text": [
      "wrote to /monoscene/Monoscene/outputs/NYU1398_0000.pkl\n"
     ]
    },
    {
     "name": "stderr",
     "output_type": "stream",
     "text": [
      "\r",
      " 75%|███████▍  | 163/218 [04:08<01:26,  1.58s/it]"
     ]
    },
    {
     "name": "stdout",
     "output_type": "stream",
     "text": [
      "wrote to /monoscene/Monoscene/outputs/NYU0537_0000.pkl\n"
     ]
    },
    {
     "name": "stderr",
     "output_type": "stream",
     "text": [
      "\r",
      " 75%|███████▌  | 164/218 [04:10<01:24,  1.57s/it]"
     ]
    },
    {
     "name": "stdout",
     "output_type": "stream",
     "text": [
      "wrote to /monoscene/Monoscene/outputs/NYU0447_0000.pkl\n"
     ]
    },
    {
     "name": "stderr",
     "output_type": "stream",
     "text": [
      "\r",
      " 76%|███████▌  | 165/218 [04:11<01:22,  1.55s/it]"
     ]
    },
    {
     "name": "stdout",
     "output_type": "stream",
     "text": [
      "wrote to /monoscene/Monoscene/outputs/NYU1229_0000.pkl\n"
     ]
    },
    {
     "name": "stderr",
     "output_type": "stream",
     "text": [
      "\r",
      " 76%|███████▌  | 166/218 [04:13<01:21,  1.56s/it]"
     ]
    },
    {
     "name": "stdout",
     "output_type": "stream",
     "text": [
      "wrote to /monoscene/Monoscene/outputs/NYU1146_0000.pkl\n"
     ]
    },
    {
     "name": "stderr",
     "output_type": "stream",
     "text": [
      "\r",
      " 77%|███████▋  | 167/218 [04:14<01:21,  1.61s/it]"
     ]
    },
    {
     "name": "stdout",
     "output_type": "stream",
     "text": [
      "wrote to /monoscene/Monoscene/outputs/NYU1182_0000.pkl\n"
     ]
    },
    {
     "name": "stderr",
     "output_type": "stream",
     "text": [
      "\r",
      " 77%|███████▋  | 168/218 [04:16<01:20,  1.60s/it]"
     ]
    },
    {
     "name": "stdout",
     "output_type": "stream",
     "text": [
      "wrote to /monoscene/Monoscene/outputs/NYU0046_0000.pkl\n"
     ]
    },
    {
     "name": "stderr",
     "output_type": "stream",
     "text": [
      "\r",
      " 78%|███████▊  | 169/218 [04:17<01:17,  1.59s/it]"
     ]
    },
    {
     "name": "stdout",
     "output_type": "stream",
     "text": [
      "wrote to /monoscene/Monoscene/outputs/NYU0686_0000.pkl\n"
     ]
    },
    {
     "name": "stderr",
     "output_type": "stream",
     "text": [
      "\r",
      " 78%|███████▊  | 170/218 [04:19<01:16,  1.60s/it]"
     ]
    },
    {
     "name": "stdout",
     "output_type": "stream",
     "text": [
      "wrote to /monoscene/Monoscene/outputs/NYU0813_0000.pkl\n"
     ]
    },
    {
     "name": "stderr",
     "output_type": "stream",
     "text": [
      "\r",
      " 78%|███████▊  | 171/218 [04:21<01:13,  1.57s/it]"
     ]
    },
    {
     "name": "stdout",
     "output_type": "stream",
     "text": [
      "wrote to /monoscene/Monoscene/outputs/NYU0713_0000.pkl\n"
     ]
    },
    {
     "name": "stderr",
     "output_type": "stream",
     "text": [
      "\r",
      " 79%|███████▉  | 172/218 [04:22<01:11,  1.56s/it]"
     ]
    },
    {
     "name": "stdout",
     "output_type": "stream",
     "text": [
      "wrote to /monoscene/Monoscene/outputs/NYU0613_0000.pkl\n"
     ]
    },
    {
     "name": "stderr",
     "output_type": "stream",
     "text": [
      "\r",
      " 79%|███████▉  | 173/218 [04:24<01:10,  1.56s/it]"
     ]
    },
    {
     "name": "stdout",
     "output_type": "stream",
     "text": [
      "wrote to /monoscene/Monoscene/outputs/NYU0361_0000.pkl\n"
     ]
    },
    {
     "name": "stderr",
     "output_type": "stream",
     "text": [
      "\r",
      " 80%|███████▉  | 174/218 [04:25<01:07,  1.54s/it]"
     ]
    },
    {
     "name": "stdout",
     "output_type": "stream",
     "text": [
      "wrote to /monoscene/Monoscene/outputs/NYU0280_0000.pkl\n"
     ]
    },
    {
     "name": "stderr",
     "output_type": "stream",
     "text": [
      "\r",
      " 80%|████████  | 175/218 [04:27<01:06,  1.55s/it]"
     ]
    },
    {
     "name": "stdout",
     "output_type": "stream",
     "text": [
      "wrote to /monoscene/Monoscene/outputs/NYU0273_0000.pkl\n"
     ]
    },
    {
     "name": "stderr",
     "output_type": "stream",
     "text": [
      "\r",
      " 81%|████████  | 176/218 [04:28<01:06,  1.58s/it]"
     ]
    },
    {
     "name": "stdout",
     "output_type": "stream",
     "text": [
      "wrote to /monoscene/Monoscene/outputs/NYU1368_0000.pkl\n"
     ]
    },
    {
     "name": "stderr",
     "output_type": "stream",
     "text": [
      "\r",
      " 81%|████████  | 177/218 [04:30<01:04,  1.57s/it]"
     ]
    },
    {
     "name": "stdout",
     "output_type": "stream",
     "text": [
      "wrote to /monoscene/Monoscene/outputs/NYU0947_0000.pkl\n"
     ]
    },
    {
     "name": "stderr",
     "output_type": "stream",
     "text": [
      "\r",
      " 82%|████████▏ | 178/218 [04:32<01:03,  1.59s/it]"
     ]
    },
    {
     "name": "stdout",
     "output_type": "stream",
     "text": [
      "wrote to /monoscene/Monoscene/outputs/NYU0271_0000.pkl\n"
     ]
    },
    {
     "name": "stderr",
     "output_type": "stream",
     "text": [
      "\r",
      " 82%|████████▏ | 179/218 [04:33<01:00,  1.56s/it]"
     ]
    },
    {
     "name": "stdout",
     "output_type": "stream",
     "text": [
      "wrote to /monoscene/Monoscene/outputs/NYU0047_0000.pkl\n"
     ]
    },
    {
     "name": "stderr",
     "output_type": "stream",
     "text": [
      "\r",
      " 83%|████████▎ | 180/218 [04:35<00:59,  1.56s/it]"
     ]
    },
    {
     "name": "stdout",
     "output_type": "stream",
     "text": [
      "wrote to /monoscene/Monoscene/outputs/NYU1302_0000.pkl\n"
     ]
    },
    {
     "name": "stderr",
     "output_type": "stream",
     "text": [
      "\r",
      " 83%|████████▎ | 181/218 [04:36<00:56,  1.54s/it]"
     ]
    },
    {
     "name": "stdout",
     "output_type": "stream",
     "text": [
      "wrote to /monoscene/Monoscene/outputs/NYU1444_0000.pkl\n"
     ]
    },
    {
     "name": "stderr",
     "output_type": "stream",
     "text": [
      "\r",
      " 83%|████████▎ | 182/218 [04:38<00:55,  1.55s/it]"
     ]
    },
    {
     "name": "stdout",
     "output_type": "stream",
     "text": [
      "wrote to /monoscene/Monoscene/outputs/NYU0811_0000.pkl\n"
     ]
    },
    {
     "name": "stderr",
     "output_type": "stream",
     "text": [
      "\r",
      " 84%|████████▍ | 183/218 [04:39<00:53,  1.53s/it]"
     ]
    },
    {
     "name": "stdout",
     "output_type": "stream",
     "text": [
      "wrote to /monoscene/Monoscene/outputs/NYU0448_0000.pkl\n"
     ]
    },
    {
     "name": "stderr",
     "output_type": "stream",
     "text": [
      "\r",
      " 84%|████████▍ | 184/218 [04:41<00:51,  1.50s/it]"
     ]
    },
    {
     "name": "stdout",
     "output_type": "stream",
     "text": [
      "wrote to /monoscene/Monoscene/outputs/NYU1152_0000.pkl\n"
     ]
    },
    {
     "name": "stderr",
     "output_type": "stream",
     "text": [
      "\r",
      " 85%|████████▍ | 185/218 [04:42<00:49,  1.49s/it]"
     ]
    },
    {
     "name": "stdout",
     "output_type": "stream",
     "text": [
      "wrote to /monoscene/Monoscene/outputs/NYU0193_0000.pkl\n"
     ]
    },
    {
     "name": "stderr",
     "output_type": "stream",
     "text": [
      "\r",
      " 85%|████████▌ | 186/218 [04:44<00:47,  1.49s/it]"
     ]
    },
    {
     "name": "stdout",
     "output_type": "stream",
     "text": [
      "wrote to /monoscene/Monoscene/outputs/NYU1049_0000.pkl\n"
     ]
    },
    {
     "name": "stderr",
     "output_type": "stream",
     "text": [
      "\r",
      " 86%|████████▌ | 187/218 [04:45<00:45,  1.47s/it]"
     ]
    },
    {
     "name": "stdout",
     "output_type": "stream",
     "text": [
      "wrote to /monoscene/Monoscene/outputs/NYU0689_0000.pkl\n"
     ]
    },
    {
     "name": "stderr",
     "output_type": "stream",
     "text": [
      "\r",
      " 86%|████████▌ | 188/218 [04:46<00:44,  1.47s/it]"
     ]
    },
    {
     "name": "stdout",
     "output_type": "stream",
     "text": [
      "wrote to /monoscene/Monoscene/outputs/NYU0334_0000.pkl\n"
     ]
    },
    {
     "name": "stderr",
     "output_type": "stream",
     "text": [
      "\r",
      " 87%|████████▋ | 189/218 [04:48<00:43,  1.49s/it]"
     ]
    },
    {
     "name": "stdout",
     "output_type": "stream",
     "text": [
      "wrote to /monoscene/Monoscene/outputs/NYU1075_0000.pkl\n"
     ]
    },
    {
     "name": "stderr",
     "output_type": "stream",
     "text": [
      "\r",
      " 87%|████████▋ | 190/218 [04:50<00:42,  1.52s/it]"
     ]
    },
    {
     "name": "stdout",
     "output_type": "stream",
     "text": [
      "wrote to /monoscene/Monoscene/outputs/NYU0612_0000.pkl\n"
     ]
    },
    {
     "name": "stderr",
     "output_type": "stream",
     "text": [
      "\r",
      " 88%|████████▊ | 191/218 [04:51<00:41,  1.53s/it]"
     ]
    },
    {
     "name": "stdout",
     "output_type": "stream",
     "text": [
      "wrote to /monoscene/Monoscene/outputs/NYU1255_0000.pkl\n"
     ]
    },
    {
     "name": "stderr",
     "output_type": "stream",
     "text": [
      "\r",
      " 88%|████████▊ | 192/218 [04:53<00:40,  1.55s/it]"
     ]
    },
    {
     "name": "stdout",
     "output_type": "stream",
     "text": [
      "wrote to /monoscene/Monoscene/outputs/NYU0090_0000.pkl\n"
     ]
    },
    {
     "name": "stderr",
     "output_type": "stream",
     "text": [
      "\r",
      " 89%|████████▊ | 193/218 [04:54<00:37,  1.51s/it]"
     ]
    },
    {
     "name": "stdout",
     "output_type": "stream",
     "text": [
      "wrote to /monoscene/Monoscene/outputs/NYU0190_0000.pkl\n"
     ]
    },
    {
     "name": "stderr",
     "output_type": "stream",
     "text": [
      "\r",
      " 89%|████████▉ | 194/218 [04:56<00:37,  1.54s/it]"
     ]
    },
    {
     "name": "stdout",
     "output_type": "stream",
     "text": [
      "wrote to /monoscene/Monoscene/outputs/NYU1207_0000.pkl\n"
     ]
    },
    {
     "name": "stderr",
     "output_type": "stream",
     "text": [
      "\r",
      " 89%|████████▉ | 195/218 [04:57<00:34,  1.52s/it]"
     ]
    },
    {
     "name": "stdout",
     "output_type": "stream",
     "text": [
      "wrote to /monoscene/Monoscene/outputs/NYU0743_0000.pkl\n"
     ]
    },
    {
     "name": "stderr",
     "output_type": "stream",
     "text": [
      "\r",
      " 90%|████████▉ | 196/218 [04:59<00:33,  1.52s/it]"
     ]
    },
    {
     "name": "stdout",
     "output_type": "stream",
     "text": [
      "wrote to /monoscene/Monoscene/outputs/NYU1298_0000.pkl\n"
     ]
    },
    {
     "name": "stderr",
     "output_type": "stream",
     "text": [
      "\r",
      " 90%|█████████ | 197/218 [05:00<00:32,  1.54s/it]"
     ]
    },
    {
     "name": "stdout",
     "output_type": "stream",
     "text": [
      "wrote to /monoscene/Monoscene/outputs/NYU1446_0000.pkl\n"
     ]
    },
    {
     "name": "stderr",
     "output_type": "stream",
     "text": [
      "\r",
      " 91%|█████████ | 198/218 [05:02<00:30,  1.52s/it]"
     ]
    },
    {
     "name": "stdout",
     "output_type": "stream",
     "text": [
      "wrote to /monoscene/Monoscene/outputs/NYU0781_0000.pkl\n"
     ]
    },
    {
     "name": "stderr",
     "output_type": "stream",
     "text": [
      "\r",
      " 91%|█████████▏| 199/218 [05:03<00:28,  1.52s/it]"
     ]
    },
    {
     "name": "stdout",
     "output_type": "stream",
     "text": [
      "wrote to /monoscene/Monoscene/outputs/NYU0523_0000.pkl\n"
     ]
    },
    {
     "name": "stderr",
     "output_type": "stream",
     "text": [
      "\r",
      " 92%|█████████▏| 200/218 [05:05<00:26,  1.49s/it]"
     ]
    },
    {
     "name": "stdout",
     "output_type": "stream",
     "text": [
      "wrote to /monoscene/Monoscene/outputs/NYU0360_0000.pkl\n"
     ]
    },
    {
     "name": "stderr",
     "output_type": "stream",
     "text": [
      "\r",
      " 92%|█████████▏| 201/218 [05:06<00:25,  1.49s/it]"
     ]
    },
    {
     "name": "stdout",
     "output_type": "stream",
     "text": [
      "wrote to /monoscene/Monoscene/outputs/NYU0833_0000.pkl\n"
     ]
    },
    {
     "name": "stderr",
     "output_type": "stream",
     "text": [
      "\r",
      " 93%|█████████▎| 202/218 [05:08<00:24,  1.50s/it]"
     ]
    },
    {
     "name": "stdout",
     "output_type": "stream",
     "text": [
      "wrote to /monoscene/Monoscene/outputs/NYU0330_0000.pkl\n"
     ]
    },
    {
     "name": "stderr",
     "output_type": "stream",
     "text": [
      "\r",
      " 93%|█████████▎| 203/218 [05:09<00:22,  1.49s/it]"
     ]
    },
    {
     "name": "stdout",
     "output_type": "stream",
     "text": [
      "wrote to /monoscene/Monoscene/outputs/NYU0858_0000.pkl\n"
     ]
    },
    {
     "name": "stderr",
     "output_type": "stream",
     "text": [
      "\r",
      " 94%|█████████▎| 204/218 [05:11<00:21,  1.50s/it]"
     ]
    },
    {
     "name": "stdout",
     "output_type": "stream",
     "text": [
      "wrote to /monoscene/Monoscene/outputs/NYU1010_0000.pkl\n"
     ]
    },
    {
     "name": "stderr",
     "output_type": "stream",
     "text": [
      "\r",
      " 94%|█████████▍| 205/218 [05:12<00:19,  1.54s/it]"
     ]
    },
    {
     "name": "stdout",
     "output_type": "stream",
     "text": [
      "wrote to /monoscene/Monoscene/outputs/NYU1295_0000.pkl\n"
     ]
    },
    {
     "name": "stderr",
     "output_type": "stream",
     "text": [
      "\r",
      " 94%|█████████▍| 206/218 [05:14<00:18,  1.52s/it]"
     ]
    },
    {
     "name": "stdout",
     "output_type": "stream",
     "text": [
      "wrote to /monoscene/Monoscene/outputs/NYU1129_0000.pkl\n"
     ]
    },
    {
     "name": "stderr",
     "output_type": "stream",
     "text": [
      "\r",
      " 95%|█████████▍| 207/218 [05:15<00:16,  1.53s/it]"
     ]
    },
    {
     "name": "stdout",
     "output_type": "stream",
     "text": [
      "wrote to /monoscene/Monoscene/outputs/NYU0167_0000.pkl\n"
     ]
    },
    {
     "name": "stderr",
     "output_type": "stream",
     "text": [
      "\r",
      " 95%|█████████▌| 208/218 [05:17<00:15,  1.52s/it]"
     ]
    },
    {
     "name": "stdout",
     "output_type": "stream",
     "text": [
      "wrote to /monoscene/Monoscene/outputs/NYU0862_0000.pkl\n"
     ]
    },
    {
     "name": "stderr",
     "output_type": "stream",
     "text": [
      "\r",
      " 96%|█████████▌| 209/218 [05:19<00:13,  1.53s/it]"
     ]
    },
    {
     "name": "stdout",
     "output_type": "stream",
     "text": [
      "wrote to /monoscene/Monoscene/outputs/NYU0473_0000.pkl\n"
     ]
    },
    {
     "name": "stderr",
     "output_type": "stream",
     "text": [
      "\r",
      " 96%|█████████▋| 210/218 [05:20<00:11,  1.49s/it]"
     ]
    },
    {
     "name": "stdout",
     "output_type": "stream",
     "text": [
      "wrote to /monoscene/Monoscene/outputs/NYU0196_0000.pkl\n"
     ]
    },
    {
     "name": "stderr",
     "output_type": "stream",
     "text": [
      "\r",
      " 97%|█████████▋| 211/218 [05:21<00:10,  1.51s/it]"
     ]
    },
    {
     "name": "stdout",
     "output_type": "stream",
     "text": [
      "wrote to /monoscene/Monoscene/outputs/NYU1263_0000.pkl\n"
     ]
    },
    {
     "name": "stderr",
     "output_type": "stream",
     "text": [
      "\r",
      " 97%|█████████▋| 212/218 [05:23<00:08,  1.50s/it]"
     ]
    },
    {
     "name": "stdout",
     "output_type": "stream",
     "text": [
      "wrote to /monoscene/Monoscene/outputs/NYU1094_0000.pkl\n"
     ]
    },
    {
     "name": "stderr",
     "output_type": "stream",
     "text": [
      "\r",
      " 98%|█████████▊| 213/218 [05:24<00:07,  1.50s/it]"
     ]
    },
    {
     "name": "stdout",
     "output_type": "stream",
     "text": [
      "wrote to /monoscene/Monoscene/outputs/NYU0153_0000.pkl\n"
     ]
    },
    {
     "name": "stderr",
     "output_type": "stream",
     "text": [
      "\r",
      " 98%|█████████▊| 214/218 [05:26<00:05,  1.50s/it]"
     ]
    },
    {
     "name": "stdout",
     "output_type": "stream",
     "text": [
      "wrote to /monoscene/Monoscene/outputs/NYU0352_0000.pkl\n"
     ]
    },
    {
     "name": "stderr",
     "output_type": "stream",
     "text": [
      "\r",
      " 99%|█████████▊| 215/218 [05:27<00:04,  1.49s/it]"
     ]
    },
    {
     "name": "stdout",
     "output_type": "stream",
     "text": [
      "wrote to /monoscene/Monoscene/outputs/NYU1230_0000.pkl\n"
     ]
    },
    {
     "name": "stderr",
     "output_type": "stream",
     "text": [
      "\r",
      " 99%|█████████▉| 216/218 [05:29<00:02,  1.48s/it]"
     ]
    },
    {
     "name": "stdout",
     "output_type": "stream",
     "text": [
      "wrote to /monoscene/Monoscene/outputs/NYU0976_0000.pkl\n"
     ]
    },
    {
     "name": "stderr",
     "output_type": "stream",
     "text": [
      "\r",
      "100%|█████████▉| 217/218 [05:30<00:01,  1.49s/it]"
     ]
    },
    {
     "name": "stdout",
     "output_type": "stream",
     "text": [
      "wrote to /monoscene/Monoscene/outputs/NYU0430_0000.pkl\n"
     ]
    },
    {
     "name": "stderr",
     "output_type": "stream",
     "text": [
      "100%|██████████| 218/218 [05:32<00:00,  1.52s/it]"
     ]
    },
    {
     "name": "stdout",
     "output_type": "stream",
     "text": [
      "wrote to /monoscene/Monoscene/outputs/NYU0041_0000.pkl\n"
     ]
    },
    {
     "name": "stderr",
     "output_type": "stream",
     "text": [
      "\n"
     ]
    }
   ],
   "source": [
    "output_path = '/monoscene/Monoscene/outputs/'\n",
    "with torch.no_grad():\n",
    "    for batch in tqdm(data_loader):\n",
    "        batch[\"img\"] = batch[\"img\"].cuda()\n",
    "        pred = model(batch)\n",
    "        y_pred = torch.softmax(pred[\"ssc_logit\"], dim=1).detach().cpu().numpy()\n",
    "        y_pred = np.argmax(y_pred, axis=1)\n",
    "        for i in range(config.batch_size):\n",
    "            out_dict = {\"y_pred\": y_pred[i].astype(np.uint16)}\n",
    "            if \"target\" in batch:\n",
    "                out_dict[\"target\"] = (\n",
    "                    batch[\"target\"][i].detach().cpu().numpy().astype(np.uint16)\n",
    "                )\n",
    "            \n",
    "            # NYU write Path\n",
    "            write_path = output_path\n",
    "            filepath = os.path.join(write_path, batch[\"name\"][i] + \".pkl\")\n",
    "            out_dict[\"cam_pose\"] = batch[\"cam_pose\"][i].detach().cpu().numpy()\n",
    "            out_dict[\"vox_origin\"] = (\n",
    "                batch[\"vox_origin\"][i].detach().cpu().numpy()\n",
    "            )\n",
    "            \n",
    "            os.makedirs(write_path, exist_ok=True)\n",
    "            with open(filepath, \"wb\") as handle:\n",
    "                pickle.dump(out_dict, handle)\n",
    "                print(\"wrote to\", filepath)"
   ]
  },
  {
   "cell_type": "code",
   "execution_count": null,
   "id": "02319f80",
   "metadata": {},
   "outputs": [],
   "source": []
  }
 ],
 "metadata": {
  "kernelspec": {
   "display_name": "monoscene",
   "language": "python",
   "name": "monoscene"
  },
  "language_info": {
   "codemirror_mode": {
    "name": "ipython",
    "version": 3
   },
   "file_extension": ".py",
   "mimetype": "text/x-python",
   "name": "python",
   "nbconvert_exporter": "python",
   "pygments_lexer": "ipython3",
   "version": "3.7.16"
  }
 },
 "nbformat": 4,
 "nbformat_minor": 5
}
